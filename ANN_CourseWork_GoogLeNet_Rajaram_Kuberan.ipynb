{
  "nbformat": 4,
  "nbformat_minor": 0,
  "metadata": {
    "colab": {
      "name": "ANN CourseWork - Rajaram Kuberan.ipynb",
      "provenance": [],
      "collapsed_sections": [],
      "toc_visible": true,
      "include_colab_link": true
    },
    "kernelspec": {
      "name": "python3",
      "display_name": "Python 3"
    },
    "language_info": {
      "name": "python"
    },
    "accelerator": "GPU"
  },
  "cells": [
    {
      "cell_type": "markdown",
      "metadata": {
        "id": "view-in-github",
        "colab_type": "text"
      },
      "source": [
        "<a href=\"https://colab.research.google.com/github/rajaramkuberan/ANN_Coursework_Coventry_Univ/blob/main/ANN_CourseWork_GoogLeNet_Rajaram_Kuberan.ipynb\" target=\"_parent\"><img src=\"https://colab.research.google.com/assets/colab-badge.svg\" alt=\"Open In Colab\"/></a>"
      ]
    },
    {
      "cell_type": "markdown",
      "metadata": {
        "id": "OPf6LfXSdxe2"
      },
      "source": [
        "# **7088 CEM - Artificial Neural Network Coursework**\n",
        "##**Coventry University**\n",
        "###**Student Name**: Rajaram Kuberan\n",
        "###**Student ID**  : 10457647\n",
        "###**Email ID**    : kuberanr@coventry.ac.uk"
      ]
    },
    {
      "cell_type": "markdown",
      "metadata": {
        "id": "bLhhpL_PkRlY"
      },
      "source": [
        "# **Topic: Image Classification of Grocery Items for Ketogenic Shopping Using CNN Architectures**\n",
        "\n",
        "This project Worflow is carried out in five parts:\n",
        "\n",
        "**1. Data Collection**\n",
        "\n",
        "**2. Data Preprocessing**\n",
        "\n",
        "**3. CNN Architecture Selection and Modelling**\n",
        "\n",
        "**4. Image Classification and Prediction**\n",
        "\n",
        "**5. Metrics Calculation**\n",
        "\n",
        "There are two architectures used for this Coursework:\n",
        "\n",
        "1. GoogLeNet Architecture\n",
        "2. Transfer Learning\n",
        "\n",
        "In this Colab Notebook, the first architecture is explained: GoogLeNet Architecture without Transfer Learning and with Transfer Learning. The second  architecture - Transfer Learning using MobileNet architecture is explained in another Colab Notebook - [Link](https://github.com/rajaramkuberan/ANN_Coursework_Coventry_Univ/blob/main/Transfer_Learning.ipynb)\n",
        "\n",
        "  GoogLeNet Architecture is used to perform Image Classification on Ketogenic and Non-Ketogenic Food items. The Keras Library is used to build the GoogLeNet CNN architecture. The training/test datas are pushed into the Github repository. \n",
        "\n",
        "Code Link for whole project - [Github link](https://github.com/rajaramkuberan/ANN_Coursework_Coventry_Univ.git)."
      ]
    },
    {
      "cell_type": "markdown",
      "metadata": {
        "id": "T-tqOU9kMEbc"
      },
      "source": [
        "##**1. Data Collection**\n",
        "\n",
        "  The dataset used for this project is not taken directly from Kaggle or UCI data reppsitory. We have novelly scrapped the images from the UK top supermarket webistes, and also added images from two projects where grocery images were used for performing Classification.\n",
        "\n",
        "\n"
      ]
    },
    {
      "cell_type": "markdown",
      "metadata": {
        "id": "Tnm4HR2SXWNl"
      },
      "source": [
        "###**1.1 Image Scrapping**\n",
        "\n",
        "  Data is collected by scrapping images from websites like [Tesco](https://www.tesco.com/groceries/) and [Morrisons](https://groceries.morrisons.com/browse). Additionally the dataset from [Grocery Dataset](https://github.com/marcusklasson/GroceryStoreDataset/tree/master/dataset) and [Freiburg Grocery Dataset](http://aisdatasets.informatik.uni-freiburg.de/freiburg_groceries_dataset/) are also used. For Image Scrapping, Automation Tool - Selenium written in Java is used in this project. The Selenium with Python was also used. But Java Selenium combination helped us to scrap nearly 1500 images in a single exection of code. In this way, we could scrap nearly 12500+ images from Tesco website and 7500+ images from Morrisons website. The Grocery and Freiburg Dataset contains 5000 images respectively. So, totally we have 30000+ images to perform Classification.\n"
      ]
    },
    {
      "cell_type": "markdown",
      "metadata": {
        "id": "G9eTtOhDXfph"
      },
      "source": [
        "###**1.2 Selenium Java code Link**\n",
        "\n",
        "  Below are the Github link for selenium Java code:\n",
        "\n",
        "Tesco Selenium Java codes - [Link](https://github.com/rajaramkuberan/ANN_Coursework_Coventry_Univ/blob/main/Data_Image_Web_scrapping/tesco_selenium.java)\n",
        "\n",
        "Morrisons Selenium Java - [Link](https://github.com/rajaramkuberan/ANN_Coursework_Coventry_Univ/blob/main/Data_Image_Web_scrapping/Morrisons_Selenium.java)\n",
        "\n",
        "Dependencies required to execute do Automated Image Scrapping: \n",
        "1. Chromedriver - [Link](https://github.com/rajaramkuberan/ANN_Coursework_Coventry_Univ/tree/main/Data_Image_Web_scrapping/chromedriver_win32)\n",
        "\n",
        "2. Maven Repository and Selenium Ashot - [Link](https://github.com/rajaramkuberan/ANN_Coursework_Coventry_Univ/blob/main/Data_Image_Web_scrapping/selenium_ashot.txt)\n",
        "\n",
        "3. XML Pom file where the dependencies are listed to run the Java Selenium code: [Link](https://github.com/rajaramkuberan/ANN_Coursework_Coventry_Univ/blob/main/Data_Image_Web_scrapping/Automation/Images/pom.xml)"
      ]
    },
    {
      "cell_type": "markdown",
      "metadata": {
        "id": "l3yC7iuuMBso"
      },
      "source": [
        "###**1.3 Importing Data from the Github**\n",
        "\n",
        "Git clone is used to import the data from Github to Google Colab. The GPU runtime is used to run the CNN model due to its heavy computational dependencies.\n",
        "\n"
      ]
    },
    {
      "cell_type": "code",
      "metadata": {
        "colab": {
          "base_uri": "https://localhost:8080/"
        },
        "id": "yVzozTnCeSZD",
        "outputId": "a27e1ba0-fa6b-4401-8591-8d8c45e5daff"
      },
      "source": [
        "!git clone https://github.com/rajaramkuberan/ANN_Coursework_Coventry_Univ.git"
      ],
      "execution_count": 1,
      "outputs": [
        {
          "output_type": "stream",
          "text": [
            "Cloning into 'ANN_Coursework_Coventry_Univ'...\n",
            "remote: Enumerating objects: 4761, done.\u001b[K\n",
            "remote: Counting objects: 100% (4761/4761), done.\u001b[K\n",
            "remote: Compressing objects: 100% (4728/4728), done.\u001b[K\n",
            "remote: Total 30365 (delta 20), reused 4756 (delta 16), pack-reused 25604\u001b[K\n",
            "Receiving objects: 100% (30365/30365), 6.12 GiB | 33.12 MiB/s, done.\n",
            "Resolving deltas: 100% (317/317), done.\n",
            "Checking out files: 100% (31423/31423), done.\n"
          ],
          "name": "stdout"
        }
      ]
    },
    {
      "cell_type": "markdown",
      "metadata": {
        "id": "YP1wIvcK2lcA"
      },
      "source": [
        "##**2. Data Preprocessing**\n",
        "\n",
        "In this worflow, the dataset of 30000+ images are splitted randomly in the ratio of 80:20.\n",
        "\n",
        "The images are segregated, and stored in separate folders named train and test.\n",
        "\n",
        "Splitting the data code Link: [Python Code](https://github.com/rajaramkuberan/ANN_Coursework_Coventry_Univ/blob/main/splitting_the_data.ipynb)\n",
        "\n",
        "Now ,let's use ImageDataGenerator class to create our train and test dataset and normalize our data. \n",
        "\n",
        "It's important to normalize our data because data going into our CNN to improve its overall performance. We will use the rescale parameter to scale our image pixel values from [0, 255] to [0,1].\n",
        "\n",
        "In each generator, we specify the source directory of our images, the classes, the input image size, the batch size (how many images to process at once), and class mode.\n",
        "\n",
        "\n"
      ]
    },
    {
      "cell_type": "markdown",
      "metadata": {
        "id": "HfDDo5X30uDh"
      },
      "source": [
        "###**2.1 Importing the Necessary Libraries**\n",
        "\n",
        "The necessary libraries are imported for performing Data Preprocessing and CNN Modelling."
      ]
    },
    {
      "cell_type": "code",
      "metadata": {
        "id": "nc83Z1_PfQ1B"
      },
      "source": [
        "from tensorflow.keras.models import Sequential\n",
        "from tensorflow.keras.models import Model\n",
        "from tensorflow.keras.layers import Input, Conv2D, MaxPooling2D, AveragePooling2D, Flatten, GlobalAveragePooling2D, Dense, Dropout\n",
        "from tensorflow.keras.optimizers import SGD\n",
        "from tensorflow.keras.regularizers import l2\n",
        "from tensorflow.keras.applications import InceptionV3\n",
        "from keras.layers import concatenate\n",
        "from keras.preprocessing.image import ImageDataGenerator\n",
        "import numpy as np\n",
        "import matplotlib.pyplot as plt\n",
        "import tensorflow as tf\n",
        "\n",
        "\n",
        "from sklearn import svm, datasets\n",
        "from sklearn.metrics import roc_curve, auc\n",
        "from sklearn.model_selection import train_test_split\n",
        "from sklearn.preprocessing import label_binarize\n",
        "from sklearn.multiclass import OneVsRestClassifier\n",
        "from scipy import interp\n",
        "import sklearn.metrics as metrics\n",
        "from sklearn.metrics import roc_auc_score\n"
      ],
      "execution_count": 2,
      "outputs": []
    },
    {
      "cell_type": "markdown",
      "metadata": {
        "id": "uCl02Y24uNCk"
      },
      "source": [
        "###**2.2 Image Preprocessing**\n",
        "\n",
        "In this process, ImageDataGenerator class is used to create our train and test dataset for binary classification.Moreover, data is also normalised.\n",
        "\n"
      ]
    },
    {
      "cell_type": "markdown",
      "metadata": {
        "id": "dDF70CK2vhgn"
      },
      "source": [
        "####**2.2.1 Data/Image Normalisation**\n",
        "\n",
        "It's important to normalize our data because most of the CNN architecture accepts images in particular pixel values to improve its overall performance. \n",
        "\n",
        "For this, the rescale parameter is used to scale our image pixel values from [0, 255] to [0,1].\n",
        "\n",
        "In each generator, we specify the source directory of our images, the classes, the input image size, the batch size (how many images to process at once), and class mode."
      ]
    },
    {
      "cell_type": "code",
      "metadata": {
        "id": "Wd2Hg5sXfdcN"
      },
      "source": [
        "# initialising the image size as 224x224\n",
        "IMAGE_SIZE = [224,224]\n",
        "\n",
        "\n",
        "# Setting the Path to test and train data \n",
        "test_path = '/content/ANN_Coursework_Coventry_Univ/test'\n",
        "train_path = '/content/ANN_Coursework_Coventry_Univ/train'"
      ],
      "execution_count": 3,
      "outputs": []
    },
    {
      "cell_type": "code",
      "metadata": {
        "id": "m3Jw6oVdfgng"
      },
      "source": [
        "# transforming train data images\n",
        "train_datagen = ImageDataGenerator(rescale = 1/255)\n",
        "\n",
        "# transforming train data images\n",
        "test_datagen = ImageDataGenerator(rescale = 1/255)\n"
      ],
      "execution_count": 4,
      "outputs": []
    },
    {
      "cell_type": "code",
      "metadata": {
        "colab": {
          "base_uri": "https://localhost:8080/"
        },
        "id": "jbWmS9z7dNdJ",
        "outputId": "2a8b8913-73e9-4fc3-d655-3069b04a67a8"
      },
      "source": [
        "#training data \n",
        "train_generator = train_datagen.flow_from_directory(\n",
        "        '/content/ANN_Coursework_Coventry_Univ/train',  # This is the source directory for training images\n",
        "        classes = ['Keto_train', 'Non_Keto_train'],\n",
        "        target_size=(224, 224),  # All images are resized to 224x224\n",
        "        batch_size=32,\n",
        "        # Use binary labels\n",
        "        class_mode='binary')\n",
        "\n",
        "# testing data\n",
        "test_generator = test_datagen.flow_from_directory(\n",
        "        '/content/ANN_Coursework_Coventry_Univ/test',  # This is the source directory for test images\n",
        "        classes = ['Keto_test', 'Non_Keto_Test'],\n",
        "        target_size=(224, 224),  # All images are resized to 224x224\n",
        "        batch_size=16,\n",
        "        # Use binary labels\n",
        "        class_mode='binary')"
      ],
      "execution_count": 5,
      "outputs": [
        {
          "output_type": "stream",
          "text": [
            "Found 24861 images belonging to 2 classes.\n",
            "Found 6163 images belonging to 2 classes.\n"
          ],
          "name": "stdout"
        }
      ]
    },
    {
      "cell_type": "markdown",
      "metadata": {
        "id": "-YFV6A484BT2"
      },
      "source": [
        "##**3. Building the Model**\n",
        "\n",
        "In this project, GoogLeNet Architecture is used to perform Image Classification on Ketogenic and Non-Ketogenic Food items. The Keras Library is used to build the GoogLeNet CNN architecture. The training/test datas are pushed into the Github repository.\n",
        "\n",
        "In GoogLeNet architecture, there ae 4 blocks of Inception layer. Firstly to avoid repeating the layers, create the inception block function so that we can use it in the model easily.\n",
        "\n",
        "Reference: Szegedy, Christian, et al. “Going deeper with convolutions.” Proceedings of the IEEE conference on computer vision and pattern recognition. 2015.\n",
        "\n",
        "The above 2015 Paper is used as the reference to create the blocks. The kernel size and the convolution layers are \n",
        "exactly written in Python using Keras Library as mentioned in the paper."
      ]
    },
    {
      "cell_type": "markdown",
      "metadata": {
        "id": "8qWEOGnhwh06"
      },
      "source": [
        "### **3.1 GoogLeNet Architecture**"
      ]
    },
    {
      "cell_type": "markdown",
      "metadata": {
        "id": "CtIVSrCq3B7v"
      },
      "source": [
        "####**3.1.1 Create the Inception Blocks**"
      ]
    },
    {
      "cell_type": "code",
      "metadata": {
        "id": "OH1JWROnijcp"
      },
      "source": [
        "# create an Inception block \n",
        "def Inception_block(input_layer, f1, f2_conv1, f2_conv3, f3_conv1, f3_conv5, f4): \n",
        "  \n",
        "  # 1st block:\n",
        "  block1 = Conv2D(filters=f1, kernel_size = (1,1), padding = 'same', \n",
        "                 activation = 'relu')(input_layer)\n",
        "\n",
        "  # 2nd block:\n",
        "  block2 = Conv2D(filters = f2_conv1, kernel_size = (1,1), padding = 'same', \n",
        "                 activation = 'relu')(input_layer)\n",
        "  block2 = Conv2D(filters = f2_conv3, kernel_size = (3,3), padding = 'same', \n",
        "                 activation = 'relu')(block2)\n",
        "\n",
        "  # 3rd block:\n",
        "  block3 = Conv2D(filters = f3_conv1, kernel_size = (1,1), padding = 'same', \n",
        "                 activation = 'relu')(input_layer)\n",
        "  block3 = Conv2D(filters = f3_conv5, kernel_size = (5,5), padding = 'same', \n",
        "                 activation = 'relu')(block3)\n",
        "\n",
        "  # 4th block:\n",
        "  block4 = MaxPooling2D((3,3), strides= (1,1), padding = 'same')(input_layer)\n",
        "  block4 = Conv2D(filters = f4, kernel_size = (1,1), padding = 'same', \n",
        "                 activation = 'relu')(block4)\n",
        "\n",
        "  output_layer = concatenate([block1, block2, block3, block4], axis = -1)\n",
        "\n",
        "  return output_layer"
      ],
      "execution_count": 6,
      "outputs": []
    },
    {
      "cell_type": "markdown",
      "metadata": {
        "id": "sR0h0jwR4buV"
      },
      "source": [
        "#### **3.1.2 Create a GoogLenet Layer**\n",
        " Here we will define GoogLeNet Model Layers and then return the model.\n",
        "\n",
        "\n"
      ]
    },
    {
      "cell_type": "code",
      "metadata": {
        "id": "_lFYlnY7ajrG"
      },
      "source": [
        "def GoogLeNet():\n",
        "  # input layer \n",
        "  input_layer = Input(shape = (224, 224, 3))\n",
        "\n",
        "  # convolutional layer: filters = 64, kernel_size = (7,7), strides = 2\n",
        "  X = Conv2D(filters = 64, kernel_size = (7,7), strides = 2, padding = 'valid', \n",
        "             activation = 'relu')(input_layer)\n",
        "\n",
        "  # max-pooling layer: pool_size = (3,3), strides = 2\n",
        "  X = MaxPooling2D(pool_size = (3,3), strides = 2)(X)\n",
        "\n",
        "  # convolutional layer: filters = 64, strides = 1\n",
        "  X = Conv2D(filters = 64, kernel_size = (1,1), strides = 1, padding = 'same', \n",
        "             activation = 'relu')(X)\n",
        "\n",
        "  # convolutional layer: filters = 192, kernel_size = (3,3)\n",
        "  X = Conv2D(filters = 192, kernel_size = (3,3), padding = 'same', \n",
        "             activation = 'relu')(X)\n",
        "\n",
        "  # max-pooling layer: pool_size = (3,3), strides = 2\n",
        "  X = MaxPooling2D(pool_size= (3,3), strides = 2)(X)\n",
        "\n",
        "  # 1st Inception block\n",
        "  X = Inception_block(X, f1 = 64, f2_conv1 = 96, f2_conv3 = 128, f3_conv1 = 16, \n",
        "                      f3_conv5 = 32, f4 = 32)\n",
        "\n",
        "  # 2nd Inception block\n",
        "  X = Inception_block(X, f1 = 128, f2_conv1 = 128, f2_conv3 = 192, f3_conv1 = 32, \n",
        "                      f3_conv5 = 96, f4 = 64)\n",
        "\n",
        "  # max-pooling layer: pool_size = (3,3), strides = 2\n",
        "  X = MaxPooling2D(pool_size= (3,3), strides = 2)(X)\n",
        "\n",
        "  # 3rd Inception block\n",
        "  X = Inception_block(X, f1 = 192, f2_conv1 = 96, f2_conv3 = 208, f3_conv1 = 16, \n",
        "                      f3_conv5 = 48, f4 = 64)\n",
        "\n",
        "  # Average Pooling Layer 1:\n",
        "  X1 = AveragePooling2D(pool_size = (5,5), strides = 3)(X)\n",
        "  X1 = Conv2D(filters = 128, kernel_size = (1,1), padding = 'same', \n",
        "              activation = 'relu')(X1)\n",
        "  X1 = Flatten()(X1)\n",
        "  X1 = Dense(1024, activation = 'relu')(X1)\n",
        "  X1 = Dropout(0.7)(X1)\n",
        "  X1 = Dense(5, activation = 'softmax')(X1)\n",
        "\n",
        "  \n",
        "  # 4th Inception block\n",
        "  X = Inception_block(X, f1 = 160, f2_conv1 = 112, f2_conv3 = 224, f3_conv1 = 24, \n",
        "                      f3_conv5 = 64, f4 = 64)\n",
        "\n",
        "  # 5th Inception block\n",
        "  X = Inception_block(X, f1 = 128, f2_conv1 = 128, f2_conv3 = 256, f3_conv1 = 24, \n",
        "                      f3_conv5 = 64, f4 = 64)\n",
        "\n",
        "  # 6th Inception block\n",
        "  X = Inception_block(X, f1 = 112, f2_conv1 = 144, f2_conv3 = 288, f3_conv1 = 32, \n",
        "                      f3_conv5 = 64, f4 = 64)\n",
        "\n",
        "  # Average Pooling Layer 2:\n",
        "  X2 = AveragePooling2D(pool_size = (5,5), strides = 3)(X)\n",
        "  X2 = Conv2D(filters = 128, kernel_size = (1,1), padding = 'same', \n",
        "              activation = 'relu')(X2)\n",
        "  X2 = Flatten()(X2)\n",
        "  X2 = Dense(1024, activation = 'relu')(X2)\n",
        "  X2 = Dropout(0.7)(X2)\n",
        "  X2 = Dense(1000, activation = 'softmax')(X2)\n",
        "  \n",
        "  \n",
        "  # 7th Inception block\n",
        "  X = Inception_block(X, f1 = 256, f2_conv1 = 160, f2_conv3 = 320, f3_conv1 = 32, \n",
        "                      f3_conv5 = 128, f4 = 128)\n",
        "\n",
        "  # max-pooling layer: pool_size = (3,3), strides = 2\n",
        "  X = MaxPooling2D(pool_size = (3,3), strides = 2)(X)\n",
        "\n",
        "  # 8th Inception block\n",
        "  X = Inception_block(X, f1 = 256, f2_conv1 = 160, f2_conv3 = 320, f3_conv1 = 32, \n",
        "                      f3_conv5 = 128, f4 = 128)\n",
        "\n",
        "  # 9th Inception block\n",
        "  X = Inception_block(X, f1 = 384, f2_conv1 = 192, f2_conv3 = 384, f3_conv1 = 48, \n",
        "                      f3_conv5 = 128, f4 = 128)\n",
        "\n",
        "  # Global Average pooling layer \n",
        "  X = GlobalAveragePooling2D(name = 'GAPL')(X)\n",
        "\n",
        "  # Dropoutlayer \n",
        "  X = Dropout(0.4)(X)\n",
        "\n",
        "  # output layer \n",
        "  X = Dense(1000, activation = 'softmax')(X)\n",
        "  \n",
        "  # model\n",
        "  model = Model(input_layer, [X, X1, X2], name = 'GoogLeNet')\n",
        "\n",
        "  return model\n",
        "\n",
        "model = GoogLeNet()"
      ],
      "execution_count": 7,
      "outputs": []
    },
    {
      "cell_type": "markdown",
      "metadata": {
        "id": "N2126aZ56nrL"
      },
      "source": [
        "#### **3.1.3 Model Summary**\n",
        "The model.summary() method call prints a summary of the NN "
      ]
    },
    {
      "cell_type": "code",
      "metadata": {
        "id": "s7O3139AanAN",
        "colab": {
          "base_uri": "https://localhost:8080/"
        },
        "outputId": "1e8bc408-688b-4931-ed12-5b4fcae6b3ed"
      },
      "source": [
        "model.summary()"
      ],
      "execution_count": 8,
      "outputs": [
        {
          "output_type": "stream",
          "text": [
            "Model: \"GoogLeNet\"\n",
            "__________________________________________________________________________________________________\n",
            "Layer (type)                    Output Shape         Param #     Connected to                     \n",
            "==================================================================================================\n",
            "input_1 (InputLayer)            [(None, 224, 224, 3) 0                                            \n",
            "__________________________________________________________________________________________________\n",
            "conv2d (Conv2D)                 (None, 109, 109, 64) 9472        input_1[0][0]                    \n",
            "__________________________________________________________________________________________________\n",
            "max_pooling2d (MaxPooling2D)    (None, 54, 54, 64)   0           conv2d[0][0]                     \n",
            "__________________________________________________________________________________________________\n",
            "conv2d_1 (Conv2D)               (None, 54, 54, 64)   4160        max_pooling2d[0][0]              \n",
            "__________________________________________________________________________________________________\n",
            "conv2d_2 (Conv2D)               (None, 54, 54, 192)  110784      conv2d_1[0][0]                   \n",
            "__________________________________________________________________________________________________\n",
            "max_pooling2d_1 (MaxPooling2D)  (None, 26, 26, 192)  0           conv2d_2[0][0]                   \n",
            "__________________________________________________________________________________________________\n",
            "conv2d_4 (Conv2D)               (None, 26, 26, 96)   18528       max_pooling2d_1[0][0]            \n",
            "__________________________________________________________________________________________________\n",
            "conv2d_6 (Conv2D)               (None, 26, 26, 16)   3088        max_pooling2d_1[0][0]            \n",
            "__________________________________________________________________________________________________\n",
            "max_pooling2d_2 (MaxPooling2D)  (None, 26, 26, 192)  0           max_pooling2d_1[0][0]            \n",
            "__________________________________________________________________________________________________\n",
            "conv2d_3 (Conv2D)               (None, 26, 26, 64)   12352       max_pooling2d_1[0][0]            \n",
            "__________________________________________________________________________________________________\n",
            "conv2d_5 (Conv2D)               (None, 26, 26, 128)  110720      conv2d_4[0][0]                   \n",
            "__________________________________________________________________________________________________\n",
            "conv2d_7 (Conv2D)               (None, 26, 26, 32)   12832       conv2d_6[0][0]                   \n",
            "__________________________________________________________________________________________________\n",
            "conv2d_8 (Conv2D)               (None, 26, 26, 32)   6176        max_pooling2d_2[0][0]            \n",
            "__________________________________________________________________________________________________\n",
            "concatenate (Concatenate)       (None, 26, 26, 256)  0           conv2d_3[0][0]                   \n",
            "                                                                 conv2d_5[0][0]                   \n",
            "                                                                 conv2d_7[0][0]                   \n",
            "                                                                 conv2d_8[0][0]                   \n",
            "__________________________________________________________________________________________________\n",
            "conv2d_10 (Conv2D)              (None, 26, 26, 128)  32896       concatenate[0][0]                \n",
            "__________________________________________________________________________________________________\n",
            "conv2d_12 (Conv2D)              (None, 26, 26, 32)   8224        concatenate[0][0]                \n",
            "__________________________________________________________________________________________________\n",
            "max_pooling2d_3 (MaxPooling2D)  (None, 26, 26, 256)  0           concatenate[0][0]                \n",
            "__________________________________________________________________________________________________\n",
            "conv2d_9 (Conv2D)               (None, 26, 26, 128)  32896       concatenate[0][0]                \n",
            "__________________________________________________________________________________________________\n",
            "conv2d_11 (Conv2D)              (None, 26, 26, 192)  221376      conv2d_10[0][0]                  \n",
            "__________________________________________________________________________________________________\n",
            "conv2d_13 (Conv2D)              (None, 26, 26, 96)   76896       conv2d_12[0][0]                  \n",
            "__________________________________________________________________________________________________\n",
            "conv2d_14 (Conv2D)              (None, 26, 26, 64)   16448       max_pooling2d_3[0][0]            \n",
            "__________________________________________________________________________________________________\n",
            "concatenate_1 (Concatenate)     (None, 26, 26, 480)  0           conv2d_9[0][0]                   \n",
            "                                                                 conv2d_11[0][0]                  \n",
            "                                                                 conv2d_13[0][0]                  \n",
            "                                                                 conv2d_14[0][0]                  \n",
            "__________________________________________________________________________________________________\n",
            "max_pooling2d_4 (MaxPooling2D)  (None, 12, 12, 480)  0           concatenate_1[0][0]              \n",
            "__________________________________________________________________________________________________\n",
            "conv2d_16 (Conv2D)              (None, 12, 12, 96)   46176       max_pooling2d_4[0][0]            \n",
            "__________________________________________________________________________________________________\n",
            "conv2d_18 (Conv2D)              (None, 12, 12, 16)   7696        max_pooling2d_4[0][0]            \n",
            "__________________________________________________________________________________________________\n",
            "max_pooling2d_5 (MaxPooling2D)  (None, 12, 12, 480)  0           max_pooling2d_4[0][0]            \n",
            "__________________________________________________________________________________________________\n",
            "conv2d_15 (Conv2D)              (None, 12, 12, 192)  92352       max_pooling2d_4[0][0]            \n",
            "__________________________________________________________________________________________________\n",
            "conv2d_17 (Conv2D)              (None, 12, 12, 208)  179920      conv2d_16[0][0]                  \n",
            "__________________________________________________________________________________________________\n",
            "conv2d_19 (Conv2D)              (None, 12, 12, 48)   19248       conv2d_18[0][0]                  \n",
            "__________________________________________________________________________________________________\n",
            "conv2d_20 (Conv2D)              (None, 12, 12, 64)   30784       max_pooling2d_5[0][0]            \n",
            "__________________________________________________________________________________________________\n",
            "concatenate_2 (Concatenate)     (None, 12, 12, 512)  0           conv2d_15[0][0]                  \n",
            "                                                                 conv2d_17[0][0]                  \n",
            "                                                                 conv2d_19[0][0]                  \n",
            "                                                                 conv2d_20[0][0]                  \n",
            "__________________________________________________________________________________________________\n",
            "conv2d_23 (Conv2D)              (None, 12, 12, 112)  57456       concatenate_2[0][0]              \n",
            "__________________________________________________________________________________________________\n",
            "conv2d_25 (Conv2D)              (None, 12, 12, 24)   12312       concatenate_2[0][0]              \n",
            "__________________________________________________________________________________________________\n",
            "max_pooling2d_6 (MaxPooling2D)  (None, 12, 12, 512)  0           concatenate_2[0][0]              \n",
            "__________________________________________________________________________________________________\n",
            "conv2d_22 (Conv2D)              (None, 12, 12, 160)  82080       concatenate_2[0][0]              \n",
            "__________________________________________________________________________________________________\n",
            "conv2d_24 (Conv2D)              (None, 12, 12, 224)  226016      conv2d_23[0][0]                  \n",
            "__________________________________________________________________________________________________\n",
            "conv2d_26 (Conv2D)              (None, 12, 12, 64)   38464       conv2d_25[0][0]                  \n",
            "__________________________________________________________________________________________________\n",
            "conv2d_27 (Conv2D)              (None, 12, 12, 64)   32832       max_pooling2d_6[0][0]            \n",
            "__________________________________________________________________________________________________\n",
            "concatenate_3 (Concatenate)     (None, 12, 12, 512)  0           conv2d_22[0][0]                  \n",
            "                                                                 conv2d_24[0][0]                  \n",
            "                                                                 conv2d_26[0][0]                  \n",
            "                                                                 conv2d_27[0][0]                  \n",
            "__________________________________________________________________________________________________\n",
            "conv2d_29 (Conv2D)              (None, 12, 12, 128)  65664       concatenate_3[0][0]              \n",
            "__________________________________________________________________________________________________\n",
            "conv2d_31 (Conv2D)              (None, 12, 12, 24)   12312       concatenate_3[0][0]              \n",
            "__________________________________________________________________________________________________\n",
            "max_pooling2d_7 (MaxPooling2D)  (None, 12, 12, 512)  0           concatenate_3[0][0]              \n",
            "__________________________________________________________________________________________________\n",
            "conv2d_28 (Conv2D)              (None, 12, 12, 128)  65664       concatenate_3[0][0]              \n",
            "__________________________________________________________________________________________________\n",
            "conv2d_30 (Conv2D)              (None, 12, 12, 256)  295168      conv2d_29[0][0]                  \n",
            "__________________________________________________________________________________________________\n",
            "conv2d_32 (Conv2D)              (None, 12, 12, 64)   38464       conv2d_31[0][0]                  \n",
            "__________________________________________________________________________________________________\n",
            "conv2d_33 (Conv2D)              (None, 12, 12, 64)   32832       max_pooling2d_7[0][0]            \n",
            "__________________________________________________________________________________________________\n",
            "concatenate_4 (Concatenate)     (None, 12, 12, 512)  0           conv2d_28[0][0]                  \n",
            "                                                                 conv2d_30[0][0]                  \n",
            "                                                                 conv2d_32[0][0]                  \n",
            "                                                                 conv2d_33[0][0]                  \n",
            "__________________________________________________________________________________________________\n",
            "conv2d_35 (Conv2D)              (None, 12, 12, 144)  73872       concatenate_4[0][0]              \n",
            "__________________________________________________________________________________________________\n",
            "conv2d_37 (Conv2D)              (None, 12, 12, 32)   16416       concatenate_4[0][0]              \n",
            "__________________________________________________________________________________________________\n",
            "max_pooling2d_8 (MaxPooling2D)  (None, 12, 12, 512)  0           concatenate_4[0][0]              \n",
            "__________________________________________________________________________________________________\n",
            "conv2d_34 (Conv2D)              (None, 12, 12, 112)  57456       concatenate_4[0][0]              \n",
            "__________________________________________________________________________________________________\n",
            "conv2d_36 (Conv2D)              (None, 12, 12, 288)  373536      conv2d_35[0][0]                  \n",
            "__________________________________________________________________________________________________\n",
            "conv2d_38 (Conv2D)              (None, 12, 12, 64)   51264       conv2d_37[0][0]                  \n",
            "__________________________________________________________________________________________________\n",
            "conv2d_39 (Conv2D)              (None, 12, 12, 64)   32832       max_pooling2d_8[0][0]            \n",
            "__________________________________________________________________________________________________\n",
            "concatenate_5 (Concatenate)     (None, 12, 12, 528)  0           conv2d_34[0][0]                  \n",
            "                                                                 conv2d_36[0][0]                  \n",
            "                                                                 conv2d_38[0][0]                  \n",
            "                                                                 conv2d_39[0][0]                  \n",
            "__________________________________________________________________________________________________\n",
            "conv2d_42 (Conv2D)              (None, 12, 12, 160)  84640       concatenate_5[0][0]              \n",
            "__________________________________________________________________________________________________\n",
            "conv2d_44 (Conv2D)              (None, 12, 12, 32)   16928       concatenate_5[0][0]              \n",
            "__________________________________________________________________________________________________\n",
            "max_pooling2d_9 (MaxPooling2D)  (None, 12, 12, 528)  0           concatenate_5[0][0]              \n",
            "__________________________________________________________________________________________________\n",
            "conv2d_41 (Conv2D)              (None, 12, 12, 256)  135424      concatenate_5[0][0]              \n",
            "__________________________________________________________________________________________________\n",
            "conv2d_43 (Conv2D)              (None, 12, 12, 320)  461120      conv2d_42[0][0]                  \n",
            "__________________________________________________________________________________________________\n",
            "conv2d_45 (Conv2D)              (None, 12, 12, 128)  102528      conv2d_44[0][0]                  \n",
            "__________________________________________________________________________________________________\n",
            "conv2d_46 (Conv2D)              (None, 12, 12, 128)  67712       max_pooling2d_9[0][0]            \n",
            "__________________________________________________________________________________________________\n",
            "concatenate_6 (Concatenate)     (None, 12, 12, 832)  0           conv2d_41[0][0]                  \n",
            "                                                                 conv2d_43[0][0]                  \n",
            "                                                                 conv2d_45[0][0]                  \n",
            "                                                                 conv2d_46[0][0]                  \n",
            "__________________________________________________________________________________________________\n",
            "max_pooling2d_10 (MaxPooling2D) (None, 5, 5, 832)    0           concatenate_6[0][0]              \n",
            "__________________________________________________________________________________________________\n",
            "conv2d_48 (Conv2D)              (None, 5, 5, 160)    133280      max_pooling2d_10[0][0]           \n",
            "__________________________________________________________________________________________________\n",
            "conv2d_50 (Conv2D)              (None, 5, 5, 32)     26656       max_pooling2d_10[0][0]           \n",
            "__________________________________________________________________________________________________\n",
            "max_pooling2d_11 (MaxPooling2D) (None, 5, 5, 832)    0           max_pooling2d_10[0][0]           \n",
            "__________________________________________________________________________________________________\n",
            "conv2d_47 (Conv2D)              (None, 5, 5, 256)    213248      max_pooling2d_10[0][0]           \n",
            "__________________________________________________________________________________________________\n",
            "conv2d_49 (Conv2D)              (None, 5, 5, 320)    461120      conv2d_48[0][0]                  \n",
            "__________________________________________________________________________________________________\n",
            "conv2d_51 (Conv2D)              (None, 5, 5, 128)    102528      conv2d_50[0][0]                  \n",
            "__________________________________________________________________________________________________\n",
            "conv2d_52 (Conv2D)              (None, 5, 5, 128)    106624      max_pooling2d_11[0][0]           \n",
            "__________________________________________________________________________________________________\n",
            "concatenate_7 (Concatenate)     (None, 5, 5, 832)    0           conv2d_47[0][0]                  \n",
            "                                                                 conv2d_49[0][0]                  \n",
            "                                                                 conv2d_51[0][0]                  \n",
            "                                                                 conv2d_52[0][0]                  \n",
            "__________________________________________________________________________________________________\n",
            "conv2d_54 (Conv2D)              (None, 5, 5, 192)    159936      concatenate_7[0][0]              \n",
            "__________________________________________________________________________________________________\n",
            "conv2d_56 (Conv2D)              (None, 5, 5, 48)     39984       concatenate_7[0][0]              \n",
            "__________________________________________________________________________________________________\n",
            "max_pooling2d_12 (MaxPooling2D) (None, 5, 5, 832)    0           concatenate_7[0][0]              \n",
            "__________________________________________________________________________________________________\n",
            "average_pooling2d (AveragePooli (None, 3, 3, 512)    0           concatenate_2[0][0]              \n",
            "__________________________________________________________________________________________________\n",
            "average_pooling2d_1 (AveragePoo (None, 3, 3, 528)    0           concatenate_5[0][0]              \n",
            "__________________________________________________________________________________________________\n",
            "conv2d_53 (Conv2D)              (None, 5, 5, 384)    319872      concatenate_7[0][0]              \n",
            "__________________________________________________________________________________________________\n",
            "conv2d_55 (Conv2D)              (None, 5, 5, 384)    663936      conv2d_54[0][0]                  \n",
            "__________________________________________________________________________________________________\n",
            "conv2d_57 (Conv2D)              (None, 5, 5, 128)    153728      conv2d_56[0][0]                  \n",
            "__________________________________________________________________________________________________\n",
            "conv2d_58 (Conv2D)              (None, 5, 5, 128)    106624      max_pooling2d_12[0][0]           \n",
            "__________________________________________________________________________________________________\n",
            "conv2d_21 (Conv2D)              (None, 3, 3, 128)    65664       average_pooling2d[0][0]          \n",
            "__________________________________________________________________________________________________\n",
            "conv2d_40 (Conv2D)              (None, 3, 3, 128)    67712       average_pooling2d_1[0][0]        \n",
            "__________________________________________________________________________________________________\n",
            "concatenate_8 (Concatenate)     (None, 5, 5, 1024)   0           conv2d_53[0][0]                  \n",
            "                                                                 conv2d_55[0][0]                  \n",
            "                                                                 conv2d_57[0][0]                  \n",
            "                                                                 conv2d_58[0][0]                  \n",
            "__________________________________________________________________________________________________\n",
            "flatten (Flatten)               (None, 1152)         0           conv2d_21[0][0]                  \n",
            "__________________________________________________________________________________________________\n",
            "flatten_1 (Flatten)             (None, 1152)         0           conv2d_40[0][0]                  \n",
            "__________________________________________________________________________________________________\n",
            "GAPL (GlobalAveragePooling2D)   (None, 1024)         0           concatenate_8[0][0]              \n",
            "__________________________________________________________________________________________________\n",
            "dense (Dense)                   (None, 1024)         1180672     flatten[0][0]                    \n",
            "__________________________________________________________________________________________________\n",
            "dense_2 (Dense)                 (None, 1024)         1180672     flatten_1[0][0]                  \n",
            "__________________________________________________________________________________________________\n",
            "dropout_2 (Dropout)             (None, 1024)         0           GAPL[0][0]                       \n",
            "__________________________________________________________________________________________________\n",
            "dropout (Dropout)               (None, 1024)         0           dense[0][0]                      \n",
            "__________________________________________________________________________________________________\n",
            "dropout_1 (Dropout)             (None, 1024)         0           dense_2[0][0]                    \n",
            "__________________________________________________________________________________________________\n",
            "dense_4 (Dense)                 (None, 1000)         1025000     dropout_2[0][0]                  \n",
            "__________________________________________________________________________________________________\n",
            "dense_1 (Dense)                 (None, 5)            5125        dropout[0][0]                    \n",
            "__________________________________________________________________________________________________\n",
            "dense_3 (Dense)                 (None, 1000)         1025000     dropout_1[0][0]                  \n",
            "==================================================================================================\n",
            "Total params: 10,523,397\n",
            "Trainable params: 10,523,397\n",
            "Non-trainable params: 0\n",
            "__________________________________________________________________________________________________\n"
          ],
          "name": "stdout"
        }
      ]
    },
    {
      "cell_type": "markdown",
      "metadata": {
        "id": "5LTya9ES7mJk"
      },
      "source": [
        "####**3.1.4 Model Compiling/Execution**\n",
        "\n",
        "The \"output shape\" column shows the transformation of the dimensions of each layer as a result of the convolution and max pooling - convolution will reduce the layer size by a bit due to padding, and max pooling will halve the output size.\n",
        "\n",
        "\n",
        "Next, we'll configure the specifications for model training. We will train our model with the binary_crossentropy loss. We will use the Adam optimizer. Adam is a sensible optimization algorithm because it automates learning-rate tuning for us (alternatively, we could also use RmsProp and Adagrad for similar results). We will add accuracy to metrics so that the model will monitor accuracy during training"
      ]
    },
    {
      "cell_type": "code",
      "metadata": {
        "id": "QIVr3vAEatSU"
      },
      "source": [
        "#add loss function and optimisers\n",
        "#model.compile(optimizer = 'adam', loss='sparse_categorical_crossentropy', metrics =['accuracy'])\n"
      ],
      "execution_count": null,
      "outputs": []
    },
    {
      "cell_type": "code",
      "metadata": {
        "id": "F14ideQ8wje2"
      },
      "source": [
        "from tensorflow.keras.optimizers import RMSprop\n",
        "from tensorflow.keras import optimizers\n",
        "\n",
        "#model.compile(loss='sparse_categorical_crossentropy',\n",
        "#               optimizer=RMSprop(lr=0.001),\n",
        " #              metrics=['accuracy', tf.keras.metrics.AUC()])\n",
        "\n",
        "\n",
        "\n",
        "model.compile(optimizer = 'Adam', loss='sparse_categorical_crossentropy', metrics =['accuracy'])\n",
        "#model.compile(optimizer=RMSprop(lr=0.01), loss = 'sparse_categorical_crossentropy', metrics = ['accuracy'])"
      ],
      "execution_count": 9,
      "outputs": []
    },
    {
      "cell_type": "markdown",
      "metadata": {
        "id": "hRuolfLI8fdY"
      },
      "source": [
        "####**3.1.5 Fitting the Model(Training)**\n",
        "Let's train for 25 epochs GPU connection:\n"
      ]
    },
    {
      "cell_type": "code",
      "metadata": {
        "colab": {
          "base_uri": "https://localhost:8080/"
        },
        "id": "icgxL51Ba5Kd",
        "outputId": "a05f015c-598e-4649-9cc6-c38a7b08362e"
      },
      "source": [
        "# epochs is 15  \n",
        "google_fit_without_tl = model.fit(\n",
        "      train_generator,\n",
        "      steps_per_epoch=32,  \n",
        "      epochs=25,\n",
        "      verbose=1,\n",
        "      validation_data = test_generator,\n",
        "      validation_steps=16)"
      ],
      "execution_count": 10,
      "outputs": [
        {
          "output_type": "stream",
          "text": [
            "Epoch 1/25\n",
            "32/32 [==============================] - 59s 709ms/step - loss: 8.7522 - dense_4_loss: 4.2917 - dense_1_loss: 1.0674 - dense_3_loss: 3.3931 - dense_4_accuracy: 0.4107 - dense_1_accuracy: 0.4932 - dense_3_accuracy: 0.4303 - val_loss: 1.9714 - val_dense_4_loss: 0.6536 - val_dense_1_loss: 0.6546 - val_dense_3_loss: 0.6631 - val_dense_4_accuracy: 0.6367 - val_dense_1_accuracy: 0.6367 - val_dense_3_accuracy: 0.6367\n",
            "Epoch 2/25\n",
            "32/32 [==============================] - 20s 627ms/step - loss: 2.0753 - dense_4_loss: 0.6761 - dense_1_loss: 0.6799 - dense_3_loss: 0.7193 - dense_4_accuracy: 0.6143 - dense_1_accuracy: 0.6256 - dense_3_accuracy: 0.5894 - val_loss: 2.0453 - val_dense_4_loss: 0.6828 - val_dense_1_loss: 0.6811 - val_dense_3_loss: 0.6814 - val_dense_4_accuracy: 0.5859 - val_dense_1_accuracy: 0.5859 - val_dense_3_accuracy: 0.5859\n",
            "Epoch 3/25\n",
            "32/32 [==============================] - 20s 612ms/step - loss: 2.0617 - dense_4_loss: 0.6942 - dense_1_loss: 0.6880 - dense_3_loss: 0.6794 - dense_4_accuracy: 0.5818 - dense_1_accuracy: 0.5815 - dense_3_accuracy: 0.5956 - val_loss: 1.9894 - val_dense_4_loss: 0.6649 - val_dense_1_loss: 0.6621 - val_dense_3_loss: 0.6624 - val_dense_4_accuracy: 0.6250 - val_dense_1_accuracy: 0.6250 - val_dense_3_accuracy: 0.6250\n",
            "Epoch 4/25\n",
            "32/32 [==============================] - 20s 616ms/step - loss: 1.9957 - dense_4_loss: 0.6701 - dense_1_loss: 0.6546 - dense_3_loss: 0.6709 - dense_4_accuracy: 0.6272 - dense_1_accuracy: 0.6382 - dense_3_accuracy: 0.5828 - val_loss: 1.8852 - val_dense_4_loss: 0.6287 - val_dense_1_loss: 0.6266 - val_dense_3_loss: 0.6299 - val_dense_4_accuracy: 0.6797 - val_dense_1_accuracy: 0.6797 - val_dense_3_accuracy: 0.6797\n",
            "Epoch 5/25\n",
            "32/32 [==============================] - 20s 609ms/step - loss: 2.0129 - dense_4_loss: 0.6680 - dense_1_loss: 0.6663 - dense_3_loss: 0.6787 - dense_4_accuracy: 0.6217 - dense_1_accuracy: 0.6301 - dense_3_accuracy: 0.6103 - val_loss: 1.9916 - val_dense_4_loss: 0.6668 - val_dense_1_loss: 0.6614 - val_dense_3_loss: 0.6634 - val_dense_4_accuracy: 0.6289 - val_dense_1_accuracy: 0.6289 - val_dense_3_accuracy: 0.6289\n",
            "Epoch 6/25\n",
            "32/32 [==============================] - 19s 605ms/step - loss: 2.0772 - dense_4_loss: 0.6970 - dense_1_loss: 0.6793 - dense_3_loss: 0.7009 - dense_4_accuracy: 0.5883 - dense_1_accuracy: 0.5990 - dense_3_accuracy: 0.5619 - val_loss: 2.0221 - val_dense_4_loss: 0.6750 - val_dense_1_loss: 0.6727 - val_dense_3_loss: 0.6744 - val_dense_4_accuracy: 0.5977 - val_dense_1_accuracy: 0.5977 - val_dense_3_accuracy: 0.5977\n",
            "Epoch 7/25\n",
            "32/32 [==============================] - 19s 598ms/step - loss: 2.0325 - dense_4_loss: 0.6752 - dense_1_loss: 0.6723 - dense_3_loss: 0.6849 - dense_4_accuracy: 0.6277 - dense_1_accuracy: 0.6267 - dense_3_accuracy: 0.5938 - val_loss: 1.9293 - val_dense_4_loss: 0.6438 - val_dense_1_loss: 0.6422 - val_dense_3_loss: 0.6433 - val_dense_4_accuracy: 0.6562 - val_dense_1_accuracy: 0.6562 - val_dense_3_accuracy: 0.6562\n",
            "Epoch 8/25\n",
            "32/32 [==============================] - 19s 589ms/step - loss: 2.0901 - dense_4_loss: 0.6867 - dense_1_loss: 0.6955 - dense_3_loss: 0.7080 - dense_4_accuracy: 0.5852 - dense_1_accuracy: 0.6030 - dense_3_accuracy: 0.5468 - val_loss: 1.9637 - val_dense_4_loss: 0.6533 - val_dense_1_loss: 0.6526 - val_dense_3_loss: 0.6578 - val_dense_4_accuracy: 0.6406 - val_dense_1_accuracy: 0.6406 - val_dense_3_accuracy: 0.6406\n",
            "Epoch 9/25\n",
            "32/32 [==============================] - 19s 599ms/step - loss: 2.0168 - dense_4_loss: 0.6734 - dense_1_loss: 0.6684 - dense_3_loss: 0.6750 - dense_4_accuracy: 0.6312 - dense_1_accuracy: 0.6219 - dense_3_accuracy: 0.6238 - val_loss: 1.9253 - val_dense_4_loss: 0.6405 - val_dense_1_loss: 0.6449 - val_dense_3_loss: 0.6399 - val_dense_4_accuracy: 0.6602 - val_dense_1_accuracy: 0.6602 - val_dense_3_accuracy: 0.6602\n",
            "Epoch 10/25\n",
            "32/32 [==============================] - 19s 591ms/step - loss: 1.9561 - dense_4_loss: 0.6560 - dense_1_loss: 0.6468 - dense_3_loss: 0.6534 - dense_4_accuracy: 0.6592 - dense_1_accuracy: 0.6564 - dense_3_accuracy: 0.6613 - val_loss: 2.0347 - val_dense_4_loss: 0.6864 - val_dense_1_loss: 0.6703 - val_dense_3_loss: 0.6780 - val_dense_4_accuracy: 0.6094 - val_dense_1_accuracy: 0.6094 - val_dense_3_accuracy: 0.6094\n",
            "Epoch 11/25\n",
            "32/32 [==============================] - 19s 581ms/step - loss: 2.0707 - dense_4_loss: 0.6917 - dense_1_loss: 0.6796 - dense_3_loss: 0.6994 - dense_4_accuracy: 0.5892 - dense_1_accuracy: 0.5953 - dense_3_accuracy: 0.5902 - val_loss: 1.9369 - val_dense_4_loss: 0.6532 - val_dense_1_loss: 0.6412 - val_dense_3_loss: 0.6425 - val_dense_4_accuracy: 0.6797 - val_dense_1_accuracy: 0.6797 - val_dense_3_accuracy: 0.6797\n",
            "Epoch 12/25\n",
            "32/32 [==============================] - 18s 574ms/step - loss: 2.0101 - dense_4_loss: 0.6689 - dense_1_loss: 0.6654 - dense_3_loss: 0.6758 - dense_4_accuracy: 0.6310 - dense_1_accuracy: 0.6270 - dense_3_accuracy: 0.6209 - val_loss: 1.9355 - val_dense_4_loss: 0.6465 - val_dense_1_loss: 0.6425 - val_dense_3_loss: 0.6464 - val_dense_4_accuracy: 0.6602 - val_dense_1_accuracy: 0.6602 - val_dense_3_accuracy: 0.6602\n",
            "Epoch 13/25\n",
            "32/32 [==============================] - 18s 571ms/step - loss: 2.0420 - dense_4_loss: 0.6739 - dense_1_loss: 0.6776 - dense_3_loss: 0.6905 - dense_4_accuracy: 0.6117 - dense_1_accuracy: 0.6162 - dense_3_accuracy: 0.5943 - val_loss: 1.9663 - val_dense_4_loss: 0.6566 - val_dense_1_loss: 0.6545 - val_dense_3_loss: 0.6552 - val_dense_4_accuracy: 0.6367 - val_dense_1_accuracy: 0.6367 - val_dense_3_accuracy: 0.6367\n",
            "Epoch 14/25\n",
            "32/32 [==============================] - 18s 568ms/step - loss: 2.0140 - dense_4_loss: 0.6764 - dense_1_loss: 0.6639 - dense_3_loss: 0.6737 - dense_4_accuracy: 0.6235 - dense_1_accuracy: 0.6219 - dense_3_accuracy: 0.6081 - val_loss: 1.8852 - val_dense_4_loss: 0.6312 - val_dense_1_loss: 0.6246 - val_dense_3_loss: 0.6293 - val_dense_4_accuracy: 0.6992 - val_dense_1_accuracy: 0.6992 - val_dense_3_accuracy: 0.6992\n",
            "Epoch 15/25\n",
            "32/32 [==============================] - 18s 577ms/step - loss: 1.9529 - dense_4_loss: 0.6509 - dense_1_loss: 0.6459 - dense_3_loss: 0.6561 - dense_4_accuracy: 0.6605 - dense_1_accuracy: 0.6593 - dense_3_accuracy: 0.6469 - val_loss: 2.0473 - val_dense_4_loss: 0.6901 - val_dense_1_loss: 0.6766 - val_dense_3_loss: 0.6807 - val_dense_4_accuracy: 0.6133 - val_dense_1_accuracy: 0.6133 - val_dense_3_accuracy: 0.6133\n",
            "Epoch 16/25\n",
            "32/32 [==============================] - 19s 576ms/step - loss: 2.1455 - dense_4_loss: 0.7228 - dense_1_loss: 0.7095 - dense_3_loss: 0.7132 - dense_4_accuracy: 0.5550 - dense_1_accuracy: 0.5712 - dense_3_accuracy: 0.5469 - val_loss: 2.0173 - val_dense_4_loss: 0.6764 - val_dense_1_loss: 0.6661 - val_dense_3_loss: 0.6748 - val_dense_4_accuracy: 0.6094 - val_dense_1_accuracy: 0.6094 - val_dense_3_accuracy: 0.6094\n",
            "Epoch 17/25\n",
            "32/32 [==============================] - 18s 561ms/step - loss: 1.9642 - dense_4_loss: 0.6590 - dense_1_loss: 0.6374 - dense_3_loss: 0.6678 - dense_4_accuracy: 0.6499 - dense_1_accuracy: 0.6693 - dense_3_accuracy: 0.6533 - val_loss: 1.9052 - val_dense_4_loss: 0.6397 - val_dense_1_loss: 0.6349 - val_dense_3_loss: 0.6306 - val_dense_4_accuracy: 0.6836 - val_dense_1_accuracy: 0.6836 - val_dense_3_accuracy: 0.6836\n",
            "Epoch 18/25\n",
            "32/32 [==============================] - 18s 560ms/step - loss: 1.9980 - dense_4_loss: 0.6574 - dense_1_loss: 0.6646 - dense_3_loss: 0.6760 - dense_4_accuracy: 0.6341 - dense_1_accuracy: 0.6358 - dense_3_accuracy: 0.6331 - val_loss: 1.9701 - val_dense_4_loss: 0.6582 - val_dense_1_loss: 0.6546 - val_dense_3_loss: 0.6573 - val_dense_4_accuracy: 0.6328 - val_dense_1_accuracy: 0.6328 - val_dense_3_accuracy: 0.6328\n",
            "Epoch 19/25\n",
            "32/32 [==============================] - 18s 554ms/step - loss: 1.9545 - dense_4_loss: 0.6478 - dense_1_loss: 0.6475 - dense_3_loss: 0.6592 - dense_4_accuracy: 0.6629 - dense_1_accuracy: 0.6629 - dense_3_accuracy: 0.6550 - val_loss: 1.9782 - val_dense_4_loss: 0.6597 - val_dense_1_loss: 0.6591 - val_dense_3_loss: 0.6595 - val_dense_4_accuracy: 0.6289 - val_dense_1_accuracy: 0.6289 - val_dense_3_accuracy: 0.6289\n",
            "Epoch 20/25\n",
            "32/32 [==============================] - 18s 568ms/step - loss: 2.0037 - dense_4_loss: 0.6594 - dense_1_loss: 0.6647 - dense_3_loss: 0.6796 - dense_4_accuracy: 0.6175 - dense_1_accuracy: 0.6219 - dense_3_accuracy: 0.6032 - val_loss: 2.0967 - val_dense_4_loss: 0.7008 - val_dense_1_loss: 0.7077 - val_dense_3_loss: 0.6882 - val_dense_4_accuracy: 0.5977 - val_dense_1_accuracy: 0.5977 - val_dense_3_accuracy: 0.5977\n",
            "Epoch 21/25\n",
            "32/32 [==============================] - 18s 559ms/step - loss: 2.0299 - dense_4_loss: 0.6804 - dense_1_loss: 0.6710 - dense_3_loss: 0.6785 - dense_4_accuracy: 0.6203 - dense_1_accuracy: 0.6204 - dense_3_accuracy: 0.6193 - val_loss: 1.9188 - val_dense_4_loss: 0.6403 - val_dense_1_loss: 0.6384 - val_dense_3_loss: 0.6402 - val_dense_4_accuracy: 0.6641 - val_dense_1_accuracy: 0.6641 - val_dense_3_accuracy: 0.6641\n",
            "Epoch 22/25\n",
            "32/32 [==============================] - 18s 551ms/step - loss: 1.9780 - dense_4_loss: 0.6579 - dense_1_loss: 0.6517 - dense_3_loss: 0.6684 - dense_4_accuracy: 0.6404 - dense_1_accuracy: 0.6372 - dense_3_accuracy: 0.6412 - val_loss: 2.0228 - val_dense_4_loss: 0.6794 - val_dense_1_loss: 0.6676 - val_dense_3_loss: 0.6757 - val_dense_4_accuracy: 0.6055 - val_dense_1_accuracy: 0.6055 - val_dense_3_accuracy: 0.6055\n",
            "Epoch 23/25\n",
            "32/32 [==============================] - 21s 642ms/step - loss: 2.0273 - dense_4_loss: 0.6735 - dense_1_loss: 0.6762 - dense_3_loss: 0.6776 - dense_4_accuracy: 0.6190 - dense_1_accuracy: 0.6111 - dense_3_accuracy: 0.6131 - val_loss: 1.9899 - val_dense_4_loss: 0.6655 - val_dense_1_loss: 0.6592 - val_dense_3_loss: 0.6652 - val_dense_4_accuracy: 0.6172 - val_dense_1_accuracy: 0.6172 - val_dense_3_accuracy: 0.6172\n",
            "Epoch 24/25\n",
            "32/32 [==============================] - 18s 545ms/step - loss: 2.0033 - dense_4_loss: 0.6693 - dense_1_loss: 0.6654 - dense_3_loss: 0.6687 - dense_4_accuracy: 0.6183 - dense_1_accuracy: 0.6150 - dense_3_accuracy: 0.6171 - val_loss: 2.0056 - val_dense_4_loss: 0.6695 - val_dense_1_loss: 0.6676 - val_dense_3_loss: 0.6686 - val_dense_4_accuracy: 0.6094 - val_dense_1_accuracy: 0.6094 - val_dense_3_accuracy: 0.6094\n",
            "Epoch 25/25\n",
            "32/32 [==============================] - 18s 553ms/step - loss: 1.9444 - dense_4_loss: 0.6491 - dense_1_loss: 0.6437 - dense_3_loss: 0.6515 - dense_4_accuracy: 0.6625 - dense_1_accuracy: 0.6621 - dense_3_accuracy: 0.6557 - val_loss: 1.9706 - val_dense_4_loss: 0.6603 - val_dense_1_loss: 0.6519 - val_dense_3_loss: 0.6584 - val_dense_4_accuracy: 0.6328 - val_dense_1_accuracy: 0.6328 - val_dense_3_accuracy: 0.6328\n"
          ],
          "name": "stdout"
        }
      ]
    },
    {
      "cell_type": "markdown",
      "metadata": {
        "id": "0aTxt25gxNPD"
      },
      "source": [
        "###**3.2: Transfer Learning with GoogLeNet Architecture**"
      ]
    },
    {
      "cell_type": "markdown",
      "metadata": {
        "id": "j2fPJVMMxbIX"
      },
      "source": [
        "####**3.2.1 Creating Transfer Learning Architecture using GoogLenet Architecture**"
      ]
    },
    {
      "cell_type": "code",
      "metadata": {
        "colab": {
          "base_uri": "https://localhost:8080/"
        },
        "id": "l1OcTw2QtCdN",
        "outputId": "b0495b98-e16a-4d19-911f-1a76e14fe59d"
      },
      "source": [
        "model = Sequential()\n",
        "model.add(InceptionV3(include_top = False, weights=\"imagenet\", input_shape=(224, 224, 3)))\n",
        "model.add(tf.keras.layers.GlobalAveragePooling2D())\n",
        "model.add(Dense(1, activation = 'sigmoid'))\n",
        "model.layers[0].trainable = False"
      ],
      "execution_count": 42,
      "outputs": [
        {
          "output_type": "stream",
          "text": [
            "Downloading data from https://storage.googleapis.com/tensorflow/keras-applications/inception_v3/inception_v3_weights_tf_dim_ordering_tf_kernels_notop.h5\n",
            "87916544/87910968 [==============================] - 1s 0us/step\n"
          ],
          "name": "stdout"
        }
      ]
    },
    {
      "cell_type": "markdown",
      "metadata": {
        "id": "VNb9vA_Ex-BO"
      },
      "source": [
        "####**3.2.2 Model Compilation/Execution**"
      ]
    },
    {
      "cell_type": "code",
      "metadata": {
        "id": "8usiAemNtacG"
      },
      "source": [
        "from tensorflow.keras.optimizers import RMSprop\n",
        "from tensorflow.keras import optimizers\n",
        "\n",
        "model.compile(loss='binary_crossentropy',\n",
        "               optimizer=RMSprop(lr=0.001),\n",
        "              metrics=['accuracy', tf.keras.metrics.AUC()])"
      ],
      "execution_count": 43,
      "outputs": []
    },
    {
      "cell_type": "markdown",
      "metadata": {
        "id": "zvwc0nTnyVud"
      },
      "source": [
        "####**3.2.3 Fitting the model**"
      ]
    },
    {
      "cell_type": "code",
      "metadata": {
        "colab": {
          "base_uri": "https://localhost:8080/"
        },
        "id": "5X6x0kA-t1a1",
        "outputId": "1e8ad696-f431-46c0-9447-6ce04549b8b8"
      },
      "source": [
        "Google_fit_with_tl = model.fit(\n",
        "      train_generator,\n",
        "      steps_per_epoch=32,  \n",
        "      epochs=25,\n",
        "      verbose=1,\n",
        "      validation_data = test_generator,\n",
        "      validation_steps=16)"
      ],
      "execution_count": 44,
      "outputs": [
        {
          "output_type": "stream",
          "text": [
            "Epoch 1/25\n",
            "32/32 [==============================] - 22s 513ms/step - loss: 0.7724 - accuracy: 0.5779 - auc_3: 0.5560 - val_loss: 0.6732 - val_accuracy: 0.5703 - val_auc_3: 0.5775\n",
            "Epoch 2/25\n",
            "32/32 [==============================] - 14s 449ms/step - loss: 0.6893 - accuracy: 0.6060 - auc_3: 0.5793 - val_loss: 0.9183 - val_accuracy: 0.6211 - val_auc_3: 0.6229\n",
            "Epoch 3/25\n",
            "32/32 [==============================] - 15s 455ms/step - loss: 0.7188 - accuracy: 0.6040 - auc_3: 0.5808 - val_loss: 0.6675 - val_accuracy: 0.6641 - val_auc_3: 0.6485\n",
            "Epoch 4/25\n",
            "32/32 [==============================] - 16s 488ms/step - loss: 0.6449 - accuracy: 0.6460 - auc_3: 0.6228 - val_loss: 0.6314 - val_accuracy: 0.6289 - val_auc_3: 0.6664\n",
            "Epoch 5/25\n",
            "32/32 [==============================] - 14s 452ms/step - loss: 0.6914 - accuracy: 0.5911 - auc_3: 0.5961 - val_loss: 0.6518 - val_accuracy: 0.6758 - val_auc_3: 0.6124\n",
            "Epoch 6/25\n",
            "32/32 [==============================] - 15s 454ms/step - loss: 0.6198 - accuracy: 0.6656 - auc_3: 0.6396 - val_loss: 0.6020 - val_accuracy: 0.6914 - val_auc_3: 0.6417\n",
            "Epoch 7/25\n",
            "32/32 [==============================] - 15s 456ms/step - loss: 0.6590 - accuracy: 0.6237 - auc_3: 0.6461 - val_loss: 0.5703 - val_accuracy: 0.6719 - val_auc_3: 0.7308\n",
            "Epoch 8/25\n",
            "32/32 [==============================] - 14s 452ms/step - loss: 0.6366 - accuracy: 0.6366 - auc_3: 0.6489 - val_loss: 0.6451 - val_accuracy: 0.6289 - val_auc_3: 0.6635\n",
            "Epoch 9/25\n",
            "32/32 [==============================] - 14s 448ms/step - loss: 0.6678 - accuracy: 0.6189 - auc_3: 0.6252 - val_loss: 0.6750 - val_accuracy: 0.6016 - val_auc_3: 0.7502\n",
            "Epoch 10/25\n",
            "32/32 [==============================] - 15s 455ms/step - loss: 0.6249 - accuracy: 0.6566 - auc_3: 0.6657 - val_loss: 0.5964 - val_accuracy: 0.6836 - val_auc_3: 0.7200\n",
            "Epoch 11/25\n",
            "32/32 [==============================] - 15s 455ms/step - loss: 0.6689 - accuracy: 0.6484 - auc_3: 0.6415 - val_loss: 0.5732 - val_accuracy: 0.7109 - val_auc_3: 0.7001\n",
            "Epoch 12/25\n",
            "32/32 [==============================] - 14s 453ms/step - loss: 0.5863 - accuracy: 0.7024 - auc_3: 0.7015 - val_loss: 0.7909 - val_accuracy: 0.6094 - val_auc_3: 0.6928\n",
            "Epoch 13/25\n",
            "32/32 [==============================] - 14s 445ms/step - loss: 0.6056 - accuracy: 0.6767 - auc_3: 0.7010 - val_loss: 0.6928 - val_accuracy: 0.5977 - val_auc_3: 0.6671\n",
            "Epoch 14/25\n",
            "32/32 [==============================] - 14s 452ms/step - loss: 0.5975 - accuracy: 0.6759 - auc_3: 0.7190 - val_loss: 0.5791 - val_accuracy: 0.6680 - val_auc_3: 0.7228\n",
            "Epoch 15/25\n",
            "32/32 [==============================] - 15s 454ms/step - loss: 0.5874 - accuracy: 0.6919 - auc_3: 0.7011 - val_loss: 0.6626 - val_accuracy: 0.6211 - val_auc_3: 0.6738\n",
            "Epoch 16/25\n",
            "32/32 [==============================] - 15s 454ms/step - loss: 0.6042 - accuracy: 0.6596 - auc_3: 0.6963 - val_loss: 0.6053 - val_accuracy: 0.6641 - val_auc_3: 0.7229\n",
            "Epoch 17/25\n",
            "32/32 [==============================] - 14s 447ms/step - loss: 0.6275 - accuracy: 0.6541 - auc_3: 0.6687 - val_loss: 0.5741 - val_accuracy: 0.7031 - val_auc_3: 0.7253\n",
            "Epoch 18/25\n",
            "32/32 [==============================] - 14s 442ms/step - loss: 0.6366 - accuracy: 0.6639 - auc_3: 0.6765 - val_loss: 0.5656 - val_accuracy: 0.7227 - val_auc_3: 0.7432\n",
            "Epoch 19/25\n",
            "32/32 [==============================] - 14s 434ms/step - loss: 0.5952 - accuracy: 0.6887 - auc_3: 0.6990 - val_loss: 0.5937 - val_accuracy: 0.6758 - val_auc_3: 0.6893\n",
            "Epoch 20/25\n",
            "32/32 [==============================] - 14s 450ms/step - loss: 0.6044 - accuracy: 0.6630 - auc_3: 0.6571 - val_loss: 0.6501 - val_accuracy: 0.6562 - val_auc_3: 0.6759\n",
            "Epoch 21/25\n",
            "32/32 [==============================] - 14s 444ms/step - loss: 0.6587 - accuracy: 0.6058 - auc_3: 0.6392 - val_loss: 0.5548 - val_accuracy: 0.7109 - val_auc_3: 0.7516\n",
            "Epoch 22/25\n",
            "32/32 [==============================] - 14s 442ms/step - loss: 0.5910 - accuracy: 0.6845 - auc_3: 0.7148 - val_loss: 0.5587 - val_accuracy: 0.6680 - val_auc_3: 0.7458\n",
            "Epoch 23/25\n",
            "32/32 [==============================] - 14s 436ms/step - loss: 0.5703 - accuracy: 0.7139 - auc_3: 0.7353 - val_loss: 0.6608 - val_accuracy: 0.6562 - val_auc_3: 0.7009\n",
            "Epoch 24/25\n",
            "32/32 [==============================] - 14s 445ms/step - loss: 0.5637 - accuracy: 0.7025 - auc_3: 0.7590 - val_loss: 0.5918 - val_accuracy: 0.6758 - val_auc_3: 0.7146\n",
            "Epoch 25/25\n",
            "32/32 [==============================] - 14s 442ms/step - loss: 0.6384 - accuracy: 0.6544 - auc_3: 0.6615 - val_loss: 0.5790 - val_accuracy: 0.7109 - val_auc_3: 0.7323\n"
          ],
          "name": "stdout"
        }
      ]
    },
    {
      "cell_type": "markdown",
      "metadata": {
        "id": "9F5mV8WCAC1E"
      },
      "source": [
        "###**4. Image Classification and Prediction**"
      ]
    },
    {
      "cell_type": "code",
      "metadata": {
        "colab": {
          "base_uri": "https://localhost:8080/"
        },
        "id": "MOlDqL4_e-68",
        "outputId": "37a4c21e-8e05-46b5-9a2a-92a6638825f9"
      },
      "source": [
        "model.evaluate(test_generator)"
      ],
      "execution_count": 45,
      "outputs": [
        {
          "output_type": "stream",
          "text": [
            "386/386 [==============================] - 66s 170ms/step - loss: 0.5945 - accuracy: 0.6813 - auc_3: 0.7235\n"
          ],
          "name": "stdout"
        },
        {
          "output_type": "execute_result",
          "data": {
            "text/plain": [
              "[0.5944951176643372, 0.6813240051269531, 0.7235076427459717]"
            ]
          },
          "metadata": {
            "tags": []
          },
          "execution_count": 45
        }
      ]
    },
    {
      "cell_type": "code",
      "metadata": {
        "colab": {
          "base_uri": "https://localhost:8080/"
        },
        "id": "VcM8E_86kbhV",
        "outputId": "210b2a92-570f-4223-88f2-3989c8f3adcf"
      },
      "source": [
        "STEP_SIZE_TEST=test_generator.n//test_generator.batch_size\n",
        "test_generator.reset()\n",
        "preds = model.predict(test_generator, \n",
        "                      verbose=1)"
      ],
      "execution_count": 46,
      "outputs": [
        {
          "output_type": "stream",
          "text": [
            "386/386 [==============================] - 65s 166ms/step\n"
          ],
          "name": "stdout"
        }
      ]
    },
    {
      "cell_type": "code",
      "metadata": {
        "colab": {
          "base_uri": "https://localhost:8080/"
        },
        "id": "rEBzfCVSnoWK",
        "outputId": "4359332e-026e-4e5f-a408-aa231bddae83"
      },
      "source": [
        "print(len(test_generator.classes))"
      ],
      "execution_count": 47,
      "outputs": [
        {
          "output_type": "stream",
          "text": [
            "6163\n"
          ],
          "name": "stdout"
        }
      ]
    },
    {
      "cell_type": "markdown",
      "metadata": {
        "id": "l1GoYesqzEn-"
      },
      "source": [
        "###**5. Metrics Calculation**\n",
        "\n",
        "Now, calculating the ROC curve and plot it.\n",
        "\n",
        "First, let's make predictions on our test set. When using generators to make predictions, we must first turn off shuffle (as we did when we created validation_generator) and reset the generator:"
      ]
    },
    {
      "cell_type": "code",
      "metadata": {
        "id": "2xadxc75p4bM"
      },
      "source": [
        "fpr, tpr, threshold = metrics.roc_curve(test_generator.classes, preds )"
      ],
      "execution_count": 48,
      "outputs": []
    },
    {
      "cell_type": "code",
      "metadata": {
        "id": "A1SisekagYou"
      },
      "source": [
        "roc_auc = metrics.auc(fpr, tpr)"
      ],
      "execution_count": 49,
      "outputs": []
    },
    {
      "cell_type": "code",
      "metadata": {
        "colab": {
          "base_uri": "https://localhost:8080/",
          "height": 295
        },
        "id": "SrC7IxqAgfl8",
        "outputId": "dd1aa014-0985-48b5-b42a-68c4cb98acb2"
      },
      "source": [
        "plt.figure()\n",
        "lw = 2\n",
        "plt.plot(fpr, tpr, color='darkorange',\n",
        "         lw=lw, label='ROC curve (area = %0.2f)' % roc_auc)\n",
        "plt.plot([0, 1], [0, 1], color='navy', lw=lw, linestyle='--')\n",
        "plt.xlim([0.0, 1.0])\n",
        "plt.ylim([0.0, 1.05])\n",
        "plt.xlabel('False Positive Rate')\n",
        "plt.ylabel('True Positive Rate')\n",
        "plt.title('Receiver Operating Characteristic')\n",
        "plt.legend(loc=\"lower right\")\n",
        "plt.show()"
      ],
      "execution_count": 50,
      "outputs": [
        {
          "output_type": "display_data",
          "data": {
            "image/png": "[encoded data removed]",
            "text/plain": [
              "<Figure size 432x288 with 1 Axes>"
            ]
          },
          "metadata": {
            "tags": [],
            "needs_background": "light"
          }
        }
      ]
    }
  ]
}