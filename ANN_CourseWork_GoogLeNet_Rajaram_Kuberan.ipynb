{
  "nbformat": 4,
  "nbformat_minor": 0,
  "metadata": {
    "colab": {
      "name": "ANN CourseWork - Rajaram Kuberan.ipynb",
      "provenance": [],
      "collapsed_sections": [],
      "toc_visible": true,
      "include_colab_link": true
    },
    "kernelspec": {
      "name": "python3",
      "display_name": "Python 3"
    },
    "language_info": {
      "name": "python"
    },
    "accelerator": "GPU"
  },
  "cells": [
    {
      "cell_type": "markdown",
      "metadata": {
        "id": "view-in-github",
        "colab_type": "text"
      },
      "source": [
        "<a href=\"https://colab.research.google.com/github/rajaramkuberan/ANN_Coursework_Coventry_Univ/blob/main/ANN_CourseWork_GoogLeNet_Rajaram_Kuberan.ipynb\" target=\"_parent\"><img src=\"https://colab.research.google.com/assets/colab-badge.svg\" alt=\"Open In Colab\"/></a>"
      ]
    },
    {
      "cell_type": "markdown",
      "metadata": {
        "id": "bLhhpL_PkRlY"
      },
      "source": [
        "# **ANN Coursework**\n",
        "\n",
        "## Rajaram Kuberan \n",
        "\n",
        " GoogLeNet Architecture is used to perform image classification on Ketogenic and Non-Ketogenic Food items. The Keras Library is used to build the GoogLeNet CNN architecture. The training/test datas are pushed into the Github repository. \n",
        " This is the [Github](https://github.com/rajaramkuberan/ANN_Coursework_Coventry_Univ.git) link."
      ]
    },
    {
      "cell_type": "code",
      "metadata": {
        "colab": {
          "base_uri": "https://localhost:8080/"
        },
        "id": "yVzozTnCeSZD",
        "outputId": "7f85c362-6352-4b17-cbbc-00ee8b31395a"
      },
      "source": [
        "!git clone https://github.com/rajaramkuberan/ANN_Coursework_Coventry_Univ.git"
      ],
      "execution_count": 1,
      "outputs": [
        {
          "output_type": "stream",
          "text": [
            "Cloning into 'ANN_Coursework_Coventry_Univ'...\n",
            "remote: Enumerating objects: 4697, done.\u001b[K\n",
            "remote: Counting objects: 100% (4697/4697), done.\u001b[K\n",
            "remote: Compressing objects: 100% (4689/4689), done.\u001b[K\n",
            "remote: Total 30301 (delta 8), reused 4697 (delta 8), pack-reused 25604\u001b[K\n",
            "Receiving objects: 100% (30301/30301), 6.11 GiB | 46.35 MiB/s, done.\n",
            "Resolving deltas: 100% (305/305), done.\n",
            "Checking out files: 100% (31400/31400), done.\n"
          ],
          "name": "stdout"
        }
      ]
    },
    {
      "cell_type": "markdown",
      "metadata": {
        "id": "HfDDo5X30uDh"
      },
      "source": [
        "##Importing the Necessary Libraries"
      ]
    },
    {
      "cell_type": "code",
      "metadata": {
        "id": "nc83Z1_PfQ1B"
      },
      "source": [
        "\n",
        "from tensorflow.keras.models import Sequential\n",
        "from tensorflow.keras.models import Model\n",
        "from tensorflow.keras.layers import Input, Conv2D, MaxPooling2D, AveragePooling2D, Flatten, GlobalAveragePooling2D, Dense, Dropout\n",
        "from tensorflow.keras.optimizers import SGD\n",
        "from tensorflow.keras.regularizers import l2\n",
        "from keras.layers import concatenate\n",
        "from keras.preprocessing.image import ImageDataGenerator\n",
        "import numpy as np\n",
        "import matplotlib.pyplot as plt\n",
        "\n",
        "from sklearn import svm, datasets\n",
        "from sklearn.metrics import roc_curve, auc\n",
        "from sklearn.model_selection import train_test_split\n",
        "from sklearn.preprocessing import label_binarize\n",
        "from sklearn.multiclass import OneVsRestClassifier\n",
        "from scipy import interp\n",
        "from sklearn.metrics import roc_auc_score\n"
      ],
      "execution_count": 15,
      "outputs": []
    },
    {
      "cell_type": "markdown",
      "metadata": {
        "id": "YP1wIvcK2lcA"
      },
      "source": [
        "##**Data Preprocessing**\n",
        "\n",
        "Now ,let's use ImageDataGenerator class to create our train and test dataset and normalize our data. \n",
        "\n",
        "It's important to normalize our data because data going into our CNN to improve its overall performance. We will use the rescale parameter to scale our image pixel values from [0, 255] to [0,1].\n",
        "\n",
        "In each generator, we specify the source directory of our images, the classes, the input image size, the batch size (how many images to process at once), and class mode.\n",
        "\n",
        "\n"
      ]
    },
    {
      "cell_type": "code",
      "metadata": {
        "id": "Wd2Hg5sXfdcN"
      },
      "source": [
        "# initialising the image size as 224x224\n",
        "IMAGE_SIZE = [224,224]\n",
        "\n",
        "\n",
        "# Setting the Path to test and train data \n",
        "test_path = '/content/ANN_Coursework_Coventry_Univ/test'\n",
        "train_path = '/content/ANN_Coursework_Coventry_Univ/train'"
      ],
      "execution_count": 16,
      "outputs": []
    },
    {
      "cell_type": "code",
      "metadata": {
        "id": "m3Jw6oVdfgng"
      },
      "source": [
        "# transforming train data images\n",
        "train_datagen = ImageDataGenerator(rescale = 1/255)\n",
        "\n",
        "# transforming train data images\n",
        "test_datagen = ImageDataGenerator(rescale = 1/255)\n"
      ],
      "execution_count": 17,
      "outputs": []
    },
    {
      "cell_type": "code",
      "metadata": {
        "colab": {
          "base_uri": "https://localhost:8080/"
        },
        "id": "jbWmS9z7dNdJ",
        "outputId": "f0bfd095-1977-4967-93fd-9da8ef42286d"
      },
      "source": [
        "#training data \n",
        "train_generator = train_datagen.flow_from_directory(\n",
        "        '/content/ANN_Coursework_Coventry_Univ/train',  # This is the source directory for training images\n",
        "        classes = ['Keto_train', 'Non_Keto_train'],\n",
        "        target_size=(224, 224),  # All images are resized to 224x224\n",
        "        batch_size=32,\n",
        "        # Use binary labels\n",
        "        class_mode='binary')\n",
        "\n",
        "# testing data\n",
        "test_generator = test_datagen.flow_from_directory(\n",
        "        '/content/ANN_Coursework_Coventry_Univ/test',  # This is the source directory for test images\n",
        "        classes = ['Keto_test', 'Non_Keto_Test'],\n",
        "        target_size=(224, 224),  # All images are resized to 224x224\n",
        "        batch_size=16,\n",
        "        # Use binary labels\n",
        "        class_mode='binary')"
      ],
      "execution_count": 18,
      "outputs": [
        {
          "output_type": "stream",
          "text": [
            "Found 24861 images belonging to 2 classes.\n",
            "Found 6163 images belonging to 2 classes.\n"
          ],
          "name": "stdout"
        }
      ]
    },
    {
      "cell_type": "markdown",
      "metadata": {
        "id": "-YFV6A484BT2"
      },
      "source": [
        "## Building the Model\n",
        "\n",
        "In GoogLeNet architecture, there ae 4 blocks of Inception layer. Firstly to avoid repeating the layers, create the inception block function so that we can use it in the model easily.\n",
        "\n",
        "Reference: Szegedy, Christian, et al. “Going deeper with convolutions.” Proceedings of the IEEE conference on computer vision and pattern recognition. 2015.\n",
        "\n",
        "The above 2015 Paper is used as the reference to create the blocks. The kernel size and the convolution layers are \n",
        "exactly written in Python using Keras Library as mentioned in the paper."
      ]
    },
    {
      "cell_type": "markdown",
      "metadata": {
        "id": "CtIVSrCq3B7v"
      },
      "source": [
        "### Create an Inception Block"
      ]
    },
    {
      "cell_type": "code",
      "metadata": {
        "id": "OH1JWROnijcp"
      },
      "source": [
        "# create an Inception block \n",
        "def Inception_block(input_layer, f1, f2_conv1, f2_conv3, f3_conv1, f3_conv5, f4): \n",
        "  \n",
        "  # 1st block:\n",
        "  block1 = Conv2D(filters=f1, kernel_size = (1,1), padding = 'same', \n",
        "                 activation = 'relu')(input_layer)\n",
        "\n",
        "  # 2nd block:\n",
        "  block2 = Conv2D(filters = f2_conv1, kernel_size = (1,1), padding = 'same', \n",
        "                 activation = 'relu')(input_layer)\n",
        "  block2 = Conv2D(filters = f2_conv3, kernel_size = (3,3), padding = 'same', \n",
        "                 activation = 'relu')(block2)\n",
        "\n",
        "  # 3rd block:\n",
        "  block3 = Conv2D(filters = f3_conv1, kernel_size = (1,1), padding = 'same', \n",
        "                 activation = 'relu')(input_layer)\n",
        "  block3 = Conv2D(filters = f3_conv5, kernel_size = (5,5), padding = 'same', \n",
        "                 activation = 'relu')(block3)\n",
        "\n",
        "  # 4th block:\n",
        "  block4 = MaxPooling2D((3,3), strides= (1,1), padding = 'same')(input_layer)\n",
        "  block4 = Conv2D(filters = f4, kernel_size = (1,1), padding = 'same', \n",
        "                 activation = 'relu')(block4)\n",
        "\n",
        "  output_layer = concatenate([block1, block2, block3, block4], axis = -1)\n",
        "\n",
        "  return output_layer"
      ],
      "execution_count": 19,
      "outputs": []
    },
    {
      "cell_type": "markdown",
      "metadata": {
        "id": "sR0h0jwR4buV"
      },
      "source": [
        "### Create a GoogLenet Layer:\n",
        " Here we will define GoogLeNet Model Layers and then return the model.\n",
        "\n",
        "\n"
      ]
    },
    {
      "cell_type": "code",
      "metadata": {
        "id": "_lFYlnY7ajrG"
      },
      "source": [
        "def GoogLeNet():\n",
        "  # input layer \n",
        "  input_layer = Input(shape = (224, 224, 3))\n",
        "\n",
        "  # convolutional layer: filters = 64, kernel_size = (7,7), strides = 2\n",
        "  X = Conv2D(filters = 64, kernel_size = (7,7), strides = 2, padding = 'valid', \n",
        "             activation = 'relu')(input_layer)\n",
        "\n",
        "  # max-pooling layer: pool_size = (3,3), strides = 2\n",
        "  X = MaxPooling2D(pool_size = (3,3), strides = 2)(X)\n",
        "\n",
        "  # convolutional layer: filters = 64, strides = 1\n",
        "  X = Conv2D(filters = 64, kernel_size = (1,1), strides = 1, padding = 'same', \n",
        "             activation = 'relu')(X)\n",
        "\n",
        "  # convolutional layer: filters = 192, kernel_size = (3,3)\n",
        "  X = Conv2D(filters = 192, kernel_size = (3,3), padding = 'same', \n",
        "             activation = 'relu')(X)\n",
        "\n",
        "  # max-pooling layer: pool_size = (3,3), strides = 2\n",
        "  X = MaxPooling2D(pool_size= (3,3), strides = 2)(X)\n",
        "\n",
        "  # 1st Inception block\n",
        "  X = Inception_block(X, f1 = 64, f2_conv1 = 96, f2_conv3 = 128, f3_conv1 = 16, \n",
        "                      f3_conv5 = 32, f4 = 32)\n",
        "\n",
        "  # 2nd Inception block\n",
        "  X = Inception_block(X, f1 = 128, f2_conv1 = 128, f2_conv3 = 192, f3_conv1 = 32, \n",
        "                      f3_conv5 = 96, f4 = 64)\n",
        "\n",
        "  # max-pooling layer: pool_size = (3,3), strides = 2\n",
        "  X = MaxPooling2D(pool_size= (3,3), strides = 2)(X)\n",
        "\n",
        "  # 3rd Inception block\n",
        "  X = Inception_block(X, f1 = 192, f2_conv1 = 96, f2_conv3 = 208, f3_conv1 = 16, \n",
        "                      f3_conv5 = 48, f4 = 64)\n",
        "\n",
        "  # Average Pooling Layer 1:\n",
        "  X1 = AveragePooling2D(pool_size = (5,5), strides = 3)(X)\n",
        "  X1 = Conv2D(filters = 128, kernel_size = (1,1), padding = 'same', \n",
        "              activation = 'relu')(X1)\n",
        "  X1 = Flatten()(X1)\n",
        "  X1 = Dense(1024, activation = 'relu')(X1)\n",
        "  X1 = Dropout(0.7)(X1)\n",
        "  X1 = Dense(5, activation = 'softmax')(X1)\n",
        "\n",
        "  \n",
        "  # 4th Inception block\n",
        "  X = Inception_block(X, f1 = 160, f2_conv1 = 112, f2_conv3 = 224, f3_conv1 = 24, \n",
        "                      f3_conv5 = 64, f4 = 64)\n",
        "\n",
        "  # 5th Inception block\n",
        "  X = Inception_block(X, f1 = 128, f2_conv1 = 128, f2_conv3 = 256, f3_conv1 = 24, \n",
        "                      f3_conv5 = 64, f4 = 64)\n",
        "\n",
        "  # 6th Inception block\n",
        "  X = Inception_block(X, f1 = 112, f2_conv1 = 144, f2_conv3 = 288, f3_conv1 = 32, \n",
        "                      f3_conv5 = 64, f4 = 64)\n",
        "\n",
        "  # Average Pooling Layer 2:\n",
        "  X2 = AveragePooling2D(pool_size = (5,5), strides = 3)(X)\n",
        "  X2 = Conv2D(filters = 128, kernel_size = (1,1), padding = 'same', \n",
        "              activation = 'relu')(X2)\n",
        "  X2 = Flatten()(X2)\n",
        "  X2 = Dense(1024, activation = 'relu')(X2)\n",
        "  X2 = Dropout(0.7)(X2)\n",
        "  X2 = Dense(1000, activation = 'softmax')(X2)\n",
        "  \n",
        "  \n",
        "  # 7th Inception block\n",
        "  X = Inception_block(X, f1 = 256, f2_conv1 = 160, f2_conv3 = 320, f3_conv1 = 32, \n",
        "                      f3_conv5 = 128, f4 = 128)\n",
        "\n",
        "  # max-pooling layer: pool_size = (3,3), strides = 2\n",
        "  X = MaxPooling2D(pool_size = (3,3), strides = 2)(X)\n",
        "\n",
        "  # 8th Inception block\n",
        "  X = Inception_block(X, f1 = 256, f2_conv1 = 160, f2_conv3 = 320, f3_conv1 = 32, \n",
        "                      f3_conv5 = 128, f4 = 128)\n",
        "\n",
        "  # 9th Inception block\n",
        "  X = Inception_block(X, f1 = 384, f2_conv1 = 192, f2_conv3 = 384, f3_conv1 = 48, \n",
        "                      f3_conv5 = 128, f4 = 128)\n",
        "\n",
        "  # Global Average pooling layer \n",
        "  X = GlobalAveragePooling2D(name = 'GAPL')(X)\n",
        "\n",
        "  # Dropoutlayer \n",
        "  X = Dropout(0.4)(X)\n",
        "\n",
        "  # output layer \n",
        "  X = Dense(1000, activation = 'softmax')(X)\n",
        "  \n",
        "  # model\n",
        "  model = Model(input_layer, [X, X1, X2], name = 'GoogLeNet')\n",
        "\n",
        "  return model\n",
        "\n",
        "model = GoogLeNet()"
      ],
      "execution_count": 6,
      "outputs": []
    },
    {
      "cell_type": "markdown",
      "metadata": {
        "id": "N2126aZ56nrL"
      },
      "source": [
        "###Model Summary:\n",
        "The model.summary() method call prints a summary of the NN "
      ]
    },
    {
      "cell_type": "code",
      "metadata": {
        "id": "s7O3139AanAN",
        "colab": {
          "base_uri": "https://localhost:8080/"
        },
        "outputId": "aaa9f2b8-b0af-48db-b63d-15a733a1f1d4"
      },
      "source": [
        "model.summary()"
      ],
      "execution_count": 20,
      "outputs": [
        {
          "output_type": "stream",
          "text": [
            "Model: \"GoogLeNet\"\n",
            "__________________________________________________________________________________________________\n",
            "Layer (type)                    Output Shape         Param #     Connected to                     \n",
            "==================================================================================================\n",
            "input_1 (InputLayer)            [(None, 224, 224, 3) 0                                            \n",
            "__________________________________________________________________________________________________\n",
            "conv2d (Conv2D)                 (None, 109, 109, 64) 9472        input_1[0][0]                    \n",
            "__________________________________________________________________________________________________\n",
            "max_pooling2d (MaxPooling2D)    (None, 54, 54, 64)   0           conv2d[0][0]                     \n",
            "__________________________________________________________________________________________________\n",
            "conv2d_1 (Conv2D)               (None, 54, 54, 64)   4160        max_pooling2d[0][0]              \n",
            "__________________________________________________________________________________________________\n",
            "conv2d_2 (Conv2D)               (None, 54, 54, 192)  110784      conv2d_1[0][0]                   \n",
            "__________________________________________________________________________________________________\n",
            "max_pooling2d_1 (MaxPooling2D)  (None, 26, 26, 192)  0           conv2d_2[0][0]                   \n",
            "__________________________________________________________________________________________________\n",
            "conv2d_4 (Conv2D)               (None, 26, 26, 96)   18528       max_pooling2d_1[0][0]            \n",
            "__________________________________________________________________________________________________\n",
            "conv2d_6 (Conv2D)               (None, 26, 26, 16)   3088        max_pooling2d_1[0][0]            \n",
            "__________________________________________________________________________________________________\n",
            "max_pooling2d_2 (MaxPooling2D)  (None, 26, 26, 192)  0           max_pooling2d_1[0][0]            \n",
            "__________________________________________________________________________________________________\n",
            "conv2d_3 (Conv2D)               (None, 26, 26, 64)   12352       max_pooling2d_1[0][0]            \n",
            "__________________________________________________________________________________________________\n",
            "conv2d_5 (Conv2D)               (None, 26, 26, 128)  110720      conv2d_4[0][0]                   \n",
            "__________________________________________________________________________________________________\n",
            "conv2d_7 (Conv2D)               (None, 26, 26, 32)   12832       conv2d_6[0][0]                   \n",
            "__________________________________________________________________________________________________\n",
            "conv2d_8 (Conv2D)               (None, 26, 26, 32)   6176        max_pooling2d_2[0][0]            \n",
            "__________________________________________________________________________________________________\n",
            "concatenate (Concatenate)       (None, 26, 26, 256)  0           conv2d_3[0][0]                   \n",
            "                                                                 conv2d_5[0][0]                   \n",
            "                                                                 conv2d_7[0][0]                   \n",
            "                                                                 conv2d_8[0][0]                   \n",
            "__________________________________________________________________________________________________\n",
            "conv2d_10 (Conv2D)              (None, 26, 26, 128)  32896       concatenate[0][0]                \n",
            "__________________________________________________________________________________________________\n",
            "conv2d_12 (Conv2D)              (None, 26, 26, 32)   8224        concatenate[0][0]                \n",
            "__________________________________________________________________________________________________\n",
            "max_pooling2d_3 (MaxPooling2D)  (None, 26, 26, 256)  0           concatenate[0][0]                \n",
            "__________________________________________________________________________________________________\n",
            "conv2d_9 (Conv2D)               (None, 26, 26, 128)  32896       concatenate[0][0]                \n",
            "__________________________________________________________________________________________________\n",
            "conv2d_11 (Conv2D)              (None, 26, 26, 192)  221376      conv2d_10[0][0]                  \n",
            "__________________________________________________________________________________________________\n",
            "conv2d_13 (Conv2D)              (None, 26, 26, 96)   76896       conv2d_12[0][0]                  \n",
            "__________________________________________________________________________________________________\n",
            "conv2d_14 (Conv2D)              (None, 26, 26, 64)   16448       max_pooling2d_3[0][0]            \n",
            "__________________________________________________________________________________________________\n",
            "concatenate_1 (Concatenate)     (None, 26, 26, 480)  0           conv2d_9[0][0]                   \n",
            "                                                                 conv2d_11[0][0]                  \n",
            "                                                                 conv2d_13[0][0]                  \n",
            "                                                                 conv2d_14[0][0]                  \n",
            "__________________________________________________________________________________________________\n",
            "max_pooling2d_4 (MaxPooling2D)  (None, 12, 12, 480)  0           concatenate_1[0][0]              \n",
            "__________________________________________________________________________________________________\n",
            "conv2d_16 (Conv2D)              (None, 12, 12, 96)   46176       max_pooling2d_4[0][0]            \n",
            "__________________________________________________________________________________________________\n",
            "conv2d_18 (Conv2D)              (None, 12, 12, 16)   7696        max_pooling2d_4[0][0]            \n",
            "__________________________________________________________________________________________________\n",
            "max_pooling2d_5 (MaxPooling2D)  (None, 12, 12, 480)  0           max_pooling2d_4[0][0]            \n",
            "__________________________________________________________________________________________________\n",
            "conv2d_15 (Conv2D)              (None, 12, 12, 192)  92352       max_pooling2d_4[0][0]            \n",
            "__________________________________________________________________________________________________\n",
            "conv2d_17 (Conv2D)              (None, 12, 12, 208)  179920      conv2d_16[0][0]                  \n",
            "__________________________________________________________________________________________________\n",
            "conv2d_19 (Conv2D)              (None, 12, 12, 48)   19248       conv2d_18[0][0]                  \n",
            "__________________________________________________________________________________________________\n",
            "conv2d_20 (Conv2D)              (None, 12, 12, 64)   30784       max_pooling2d_5[0][0]            \n",
            "__________________________________________________________________________________________________\n",
            "concatenate_2 (Concatenate)     (None, 12, 12, 512)  0           conv2d_15[0][0]                  \n",
            "                                                                 conv2d_17[0][0]                  \n",
            "                                                                 conv2d_19[0][0]                  \n",
            "                                                                 conv2d_20[0][0]                  \n",
            "__________________________________________________________________________________________________\n",
            "conv2d_23 (Conv2D)              (None, 12, 12, 112)  57456       concatenate_2[0][0]              \n",
            "__________________________________________________________________________________________________\n",
            "conv2d_25 (Conv2D)              (None, 12, 12, 24)   12312       concatenate_2[0][0]              \n",
            "__________________________________________________________________________________________________\n",
            "max_pooling2d_6 (MaxPooling2D)  (None, 12, 12, 512)  0           concatenate_2[0][0]              \n",
            "__________________________________________________________________________________________________\n",
            "conv2d_22 (Conv2D)              (None, 12, 12, 160)  82080       concatenate_2[0][0]              \n",
            "__________________________________________________________________________________________________\n",
            "conv2d_24 (Conv2D)              (None, 12, 12, 224)  226016      conv2d_23[0][0]                  \n",
            "__________________________________________________________________________________________________\n",
            "conv2d_26 (Conv2D)              (None, 12, 12, 64)   38464       conv2d_25[0][0]                  \n",
            "__________________________________________________________________________________________________\n",
            "conv2d_27 (Conv2D)              (None, 12, 12, 64)   32832       max_pooling2d_6[0][0]            \n",
            "__________________________________________________________________________________________________\n",
            "concatenate_3 (Concatenate)     (None, 12, 12, 512)  0           conv2d_22[0][0]                  \n",
            "                                                                 conv2d_24[0][0]                  \n",
            "                                                                 conv2d_26[0][0]                  \n",
            "                                                                 conv2d_27[0][0]                  \n",
            "__________________________________________________________________________________________________\n",
            "conv2d_29 (Conv2D)              (None, 12, 12, 128)  65664       concatenate_3[0][0]              \n",
            "__________________________________________________________________________________________________\n",
            "conv2d_31 (Conv2D)              (None, 12, 12, 24)   12312       concatenate_3[0][0]              \n",
            "__________________________________________________________________________________________________\n",
            "max_pooling2d_7 (MaxPooling2D)  (None, 12, 12, 512)  0           concatenate_3[0][0]              \n",
            "__________________________________________________________________________________________________\n",
            "conv2d_28 (Conv2D)              (None, 12, 12, 128)  65664       concatenate_3[0][0]              \n",
            "__________________________________________________________________________________________________\n",
            "conv2d_30 (Conv2D)              (None, 12, 12, 256)  295168      conv2d_29[0][0]                  \n",
            "__________________________________________________________________________________________________\n",
            "conv2d_32 (Conv2D)              (None, 12, 12, 64)   38464       conv2d_31[0][0]                  \n",
            "__________________________________________________________________________________________________\n",
            "conv2d_33 (Conv2D)              (None, 12, 12, 64)   32832       max_pooling2d_7[0][0]            \n",
            "__________________________________________________________________________________________________\n",
            "concatenate_4 (Concatenate)     (None, 12, 12, 512)  0           conv2d_28[0][0]                  \n",
            "                                                                 conv2d_30[0][0]                  \n",
            "                                                                 conv2d_32[0][0]                  \n",
            "                                                                 conv2d_33[0][0]                  \n",
            "__________________________________________________________________________________________________\n",
            "conv2d_35 (Conv2D)              (None, 12, 12, 144)  73872       concatenate_4[0][0]              \n",
            "__________________________________________________________________________________________________\n",
            "conv2d_37 (Conv2D)              (None, 12, 12, 32)   16416       concatenate_4[0][0]              \n",
            "__________________________________________________________________________________________________\n",
            "max_pooling2d_8 (MaxPooling2D)  (None, 12, 12, 512)  0           concatenate_4[0][0]              \n",
            "__________________________________________________________________________________________________\n",
            "conv2d_34 (Conv2D)              (None, 12, 12, 112)  57456       concatenate_4[0][0]              \n",
            "__________________________________________________________________________________________________\n",
            "conv2d_36 (Conv2D)              (None, 12, 12, 288)  373536      conv2d_35[0][0]                  \n",
            "__________________________________________________________________________________________________\n",
            "conv2d_38 (Conv2D)              (None, 12, 12, 64)   51264       conv2d_37[0][0]                  \n",
            "__________________________________________________________________________________________________\n",
            "conv2d_39 (Conv2D)              (None, 12, 12, 64)   32832       max_pooling2d_8[0][0]            \n",
            "__________________________________________________________________________________________________\n",
            "concatenate_5 (Concatenate)     (None, 12, 12, 528)  0           conv2d_34[0][0]                  \n",
            "                                                                 conv2d_36[0][0]                  \n",
            "                                                                 conv2d_38[0][0]                  \n",
            "                                                                 conv2d_39[0][0]                  \n",
            "__________________________________________________________________________________________________\n",
            "conv2d_42 (Conv2D)              (None, 12, 12, 160)  84640       concatenate_5[0][0]              \n",
            "__________________________________________________________________________________________________\n",
            "conv2d_44 (Conv2D)              (None, 12, 12, 32)   16928       concatenate_5[0][0]              \n",
            "__________________________________________________________________________________________________\n",
            "max_pooling2d_9 (MaxPooling2D)  (None, 12, 12, 528)  0           concatenate_5[0][0]              \n",
            "__________________________________________________________________________________________________\n",
            "conv2d_41 (Conv2D)              (None, 12, 12, 256)  135424      concatenate_5[0][0]              \n",
            "__________________________________________________________________________________________________\n",
            "conv2d_43 (Conv2D)              (None, 12, 12, 320)  461120      conv2d_42[0][0]                  \n",
            "__________________________________________________________________________________________________\n",
            "conv2d_45 (Conv2D)              (None, 12, 12, 128)  102528      conv2d_44[0][0]                  \n",
            "__________________________________________________________________________________________________\n",
            "conv2d_46 (Conv2D)              (None, 12, 12, 128)  67712       max_pooling2d_9[0][0]            \n",
            "__________________________________________________________________________________________________\n",
            "concatenate_6 (Concatenate)     (None, 12, 12, 832)  0           conv2d_41[0][0]                  \n",
            "                                                                 conv2d_43[0][0]                  \n",
            "                                                                 conv2d_45[0][0]                  \n",
            "                                                                 conv2d_46[0][0]                  \n",
            "__________________________________________________________________________________________________\n",
            "max_pooling2d_10 (MaxPooling2D) (None, 5, 5, 832)    0           concatenate_6[0][0]              \n",
            "__________________________________________________________________________________________________\n",
            "conv2d_48 (Conv2D)              (None, 5, 5, 160)    133280      max_pooling2d_10[0][0]           \n",
            "__________________________________________________________________________________________________\n",
            "conv2d_50 (Conv2D)              (None, 5, 5, 32)     26656       max_pooling2d_10[0][0]           \n",
            "__________________________________________________________________________________________________\n",
            "max_pooling2d_11 (MaxPooling2D) (None, 5, 5, 832)    0           max_pooling2d_10[0][0]           \n",
            "__________________________________________________________________________________________________\n",
            "conv2d_47 (Conv2D)              (None, 5, 5, 256)    213248      max_pooling2d_10[0][0]           \n",
            "__________________________________________________________________________________________________\n",
            "conv2d_49 (Conv2D)              (None, 5, 5, 320)    461120      conv2d_48[0][0]                  \n",
            "__________________________________________________________________________________________________\n",
            "conv2d_51 (Conv2D)              (None, 5, 5, 128)    102528      conv2d_50[0][0]                  \n",
            "__________________________________________________________________________________________________\n",
            "conv2d_52 (Conv2D)              (None, 5, 5, 128)    106624      max_pooling2d_11[0][0]           \n",
            "__________________________________________________________________________________________________\n",
            "concatenate_7 (Concatenate)     (None, 5, 5, 832)    0           conv2d_47[0][0]                  \n",
            "                                                                 conv2d_49[0][0]                  \n",
            "                                                                 conv2d_51[0][0]                  \n",
            "                                                                 conv2d_52[0][0]                  \n",
            "__________________________________________________________________________________________________\n",
            "conv2d_54 (Conv2D)              (None, 5, 5, 192)    159936      concatenate_7[0][0]              \n",
            "__________________________________________________________________________________________________\n",
            "conv2d_56 (Conv2D)              (None, 5, 5, 48)     39984       concatenate_7[0][0]              \n",
            "__________________________________________________________________________________________________\n",
            "max_pooling2d_12 (MaxPooling2D) (None, 5, 5, 832)    0           concatenate_7[0][0]              \n",
            "__________________________________________________________________________________________________\n",
            "average_pooling2d (AveragePooli (None, 3, 3, 512)    0           concatenate_2[0][0]              \n",
            "__________________________________________________________________________________________________\n",
            "average_pooling2d_1 (AveragePoo (None, 3, 3, 528)    0           concatenate_5[0][0]              \n",
            "__________________________________________________________________________________________________\n",
            "conv2d_53 (Conv2D)              (None, 5, 5, 384)    319872      concatenate_7[0][0]              \n",
            "__________________________________________________________________________________________________\n",
            "conv2d_55 (Conv2D)              (None, 5, 5, 384)    663936      conv2d_54[0][0]                  \n",
            "__________________________________________________________________________________________________\n",
            "conv2d_57 (Conv2D)              (None, 5, 5, 128)    153728      conv2d_56[0][0]                  \n",
            "__________________________________________________________________________________________________\n",
            "conv2d_58 (Conv2D)              (None, 5, 5, 128)    106624      max_pooling2d_12[0][0]           \n",
            "__________________________________________________________________________________________________\n",
            "conv2d_21 (Conv2D)              (None, 3, 3, 128)    65664       average_pooling2d[0][0]          \n",
            "__________________________________________________________________________________________________\n",
            "conv2d_40 (Conv2D)              (None, 3, 3, 128)    67712       average_pooling2d_1[0][0]        \n",
            "__________________________________________________________________________________________________\n",
            "concatenate_8 (Concatenate)     (None, 5, 5, 1024)   0           conv2d_53[0][0]                  \n",
            "                                                                 conv2d_55[0][0]                  \n",
            "                                                                 conv2d_57[0][0]                  \n",
            "                                                                 conv2d_58[0][0]                  \n",
            "__________________________________________________________________________________________________\n",
            "flatten (Flatten)               (None, 1152)         0           conv2d_21[0][0]                  \n",
            "__________________________________________________________________________________________________\n",
            "flatten_1 (Flatten)             (None, 1152)         0           conv2d_40[0][0]                  \n",
            "__________________________________________________________________________________________________\n",
            "GAPL (GlobalAveragePooling2D)   (None, 1024)         0           concatenate_8[0][0]              \n",
            "__________________________________________________________________________________________________\n",
            "dense (Dense)                   (None, 1024)         1180672     flatten[0][0]                    \n",
            "__________________________________________________________________________________________________\n",
            "dense_2 (Dense)                 (None, 1024)         1180672     flatten_1[0][0]                  \n",
            "__________________________________________________________________________________________________\n",
            "dropout_2 (Dropout)             (None, 1024)         0           GAPL[0][0]                       \n",
            "__________________________________________________________________________________________________\n",
            "dropout (Dropout)               (None, 1024)         0           dense[0][0]                      \n",
            "__________________________________________________________________________________________________\n",
            "dropout_1 (Dropout)             (None, 1024)         0           dense_2[0][0]                    \n",
            "__________________________________________________________________________________________________\n",
            "dense_4 (Dense)                 (None, 1000)         1025000     dropout_2[0][0]                  \n",
            "__________________________________________________________________________________________________\n",
            "dense_1 (Dense)                 (None, 5)            5125        dropout[0][0]                    \n",
            "__________________________________________________________________________________________________\n",
            "dense_3 (Dense)                 (None, 1000)         1025000     dropout_1[0][0]                  \n",
            "==================================================================================================\n",
            "Total params: 10,523,397\n",
            "Trainable params: 10,523,397\n",
            "Non-trainable params: 0\n",
            "__________________________________________________________________________________________________\n"
          ],
          "name": "stdout"
        }
      ]
    },
    {
      "cell_type": "markdown",
      "metadata": {
        "id": "5LTya9ES7mJk"
      },
      "source": [
        "### Model Compiling/Execution:\n",
        "\n",
        "The \"output shape\" column shows the transformation of the dimensions of each layer as a result of the convolution and max pooling - convolution will reduce the layer size by a bit due to padding, and max pooling will halve the output size.\n",
        "\n",
        "\n",
        "Next, we'll configure the specifications for model training. We will train our model with the binary_crossentropy loss. We will use the Adam optimizer. Adam is a sensible optimization algorithm because it automates learning-rate tuning for us (alternatively, we could also use RmsProp and Adagrad for similar results). We will add accuracy to metrics so that the model will monitor accuracy during training"
      ]
    },
    {
      "cell_type": "code",
      "metadata": {
        "id": "QIVr3vAEatSU"
      },
      "source": [
        "#add loss function and optimisers\n",
        "#model.compile(optimizer = 'adam', loss='sparse_categorical_crossentropy', metrics =['accuracy'])"
      ],
      "execution_count": 17,
      "outputs": []
    },
    {
      "cell_type": "code",
      "metadata": {
        "id": "F14ideQ8wje2"
      },
      "source": [
        "from tensorflow.keras.optimizers import RMSprop\n",
        "\n",
        "# model.compile(loss='binary_crossentropy',\n",
        "#               optimizer=RMSprop(lr=0.001),\n",
        "#               metrics=['accuracy', tf.keras.metrics.AUC()])\n",
        "\n",
        "from tensorflow.keras import optimizers\n",
        "\n",
        "model.compile(optimizer = 'Adam', loss='sparse_categorical_crossentropy', metrics =['accuracy'])\n",
        "#model.compile(optimizer=RMSprop(lr=0.01), loss = 'sparse_categorical_crossentropy', metrics = ['accuracy'])"
      ],
      "execution_count": 8,
      "outputs": []
    },
    {
      "cell_type": "markdown",
      "metadata": {
        "id": "hRuolfLI8fdY"
      },
      "source": [
        "### Fitting the Model(Training):\n",
        "Let's train for 15 epochs GPU connection:\n"
      ]
    },
    {
      "cell_type": "code",
      "metadata": {
        "colab": {
          "base_uri": "https://localhost:8080/"
        },
        "id": "icgxL51Ba5Kd",
        "outputId": "397f1f1b-c8d7-4e8d-a3dd-bee63d55c08b"
      },
      "source": [
        "# epochs is 15  \n",
        "history = model.fit(\n",
        "      train_generator,\n",
        "      steps_per_epoch=32,  \n",
        "      epochs=50,\n",
        "      verbose=1,\n",
        "      validation_data = test_generator,\n",
        "      validation_steps=16)"
      ],
      "execution_count": 21,
      "outputs": [
        {
          "output_type": "stream",
          "text": [
            "Epoch 1/50\n",
            "32/32 [==============================] - 55s 539ms/step - loss: 7.9791 - dense_4_loss: 3.8850 - dense_1_loss: 1.0161 - dense_3_loss: 3.0781 - dense_4_accuracy: 0.5384 - dense_1_accuracy: 0.5132 - dense_3_accuracy: 0.5459 - val_loss: 2.0191 - val_dense_4_loss: 0.6582 - val_dense_1_loss: 0.6754 - val_dense_3_loss: 0.6855 - val_dense_4_accuracy: 0.6445 - val_dense_1_accuracy: 0.6445 - val_dense_3_accuracy: 0.6445\n",
            "Epoch 2/50\n",
            "32/32 [==============================] - 16s 506ms/step - loss: 2.1414 - dense_4_loss: 0.6971 - dense_1_loss: 0.6833 - dense_3_loss: 0.7611 - dense_4_accuracy: 0.5652 - dense_1_accuracy: 0.5770 - dense_3_accuracy: 0.5694 - val_loss: 1.9650 - val_dense_4_loss: 0.6554 - val_dense_1_loss: 0.6515 - val_dense_3_loss: 0.6582 - val_dense_4_accuracy: 0.6406 - val_dense_1_accuracy: 0.6406 - val_dense_3_accuracy: 0.6406\n",
            "Epoch 3/50\n",
            "32/32 [==============================] - 16s 493ms/step - loss: 2.0201 - dense_4_loss: 0.6692 - dense_1_loss: 0.6717 - dense_3_loss: 0.6793 - dense_4_accuracy: 0.6413 - dense_1_accuracy: 0.6438 - dense_3_accuracy: 0.6492 - val_loss: 1.9429 - val_dense_4_loss: 0.6553 - val_dense_1_loss: 0.6440 - val_dense_3_loss: 0.6437 - val_dense_4_accuracy: 0.6797 - val_dense_1_accuracy: 0.6797 - val_dense_3_accuracy: 0.6797\n",
            "Epoch 4/50\n",
            "32/32 [==============================] - 16s 494ms/step - loss: 2.0530 - dense_4_loss: 0.6770 - dense_1_loss: 0.6699 - dense_3_loss: 0.7061 - dense_4_accuracy: 0.6082 - dense_1_accuracy: 0.6292 - dense_3_accuracy: 0.5794 - val_loss: 1.9451 - val_dense_4_loss: 0.6493 - val_dense_1_loss: 0.6472 - val_dense_3_loss: 0.6486 - val_dense_4_accuracy: 0.6484 - val_dense_1_accuracy: 0.6484 - val_dense_3_accuracy: 0.6484\n",
            "Epoch 5/50\n",
            "32/32 [==============================] - 16s 496ms/step - loss: 2.0559 - dense_4_loss: 0.6784 - dense_1_loss: 0.6704 - dense_3_loss: 0.7071 - dense_4_accuracy: 0.6128 - dense_1_accuracy: 0.6204 - dense_3_accuracy: 0.5672 - val_loss: 1.9610 - val_dense_4_loss: 0.6561 - val_dense_1_loss: 0.6515 - val_dense_3_loss: 0.6534 - val_dense_4_accuracy: 0.6445 - val_dense_1_accuracy: 0.6445 - val_dense_3_accuracy: 0.6445\n",
            "Epoch 6/50\n",
            "32/32 [==============================] - 16s 493ms/step - loss: 2.0277 - dense_4_loss: 0.6722 - dense_1_loss: 0.6694 - dense_3_loss: 0.6861 - dense_4_accuracy: 0.6203 - dense_1_accuracy: 0.6213 - dense_3_accuracy: 0.6160 - val_loss: 1.9841 - val_dense_4_loss: 0.6609 - val_dense_1_loss: 0.6609 - val_dense_3_loss: 0.6624 - val_dense_4_accuracy: 0.6289 - val_dense_1_accuracy: 0.6289 - val_dense_3_accuracy: 0.6289\n",
            "Epoch 7/50\n",
            "32/32 [==============================] - 18s 552ms/step - loss: 2.0154 - dense_4_loss: 0.6709 - dense_1_loss: 0.6594 - dense_3_loss: 0.6851 - dense_4_accuracy: 0.6272 - dense_1_accuracy: 0.6344 - dense_3_accuracy: 0.5958 - val_loss: 1.9401 - val_dense_4_loss: 0.6466 - val_dense_1_loss: 0.6445 - val_dense_3_loss: 0.6490 - val_dense_4_accuracy: 0.6562 - val_dense_1_accuracy: 0.6562 - val_dense_3_accuracy: 0.6562\n",
            "Epoch 8/50\n",
            "32/32 [==============================] - 16s 492ms/step - loss: 2.0290 - dense_4_loss: 0.6664 - dense_1_loss: 0.6718 - dense_3_loss: 0.6908 - dense_4_accuracy: 0.6317 - dense_1_accuracy: 0.6365 - dense_3_accuracy: 0.6114 - val_loss: 2.0068 - val_dense_4_loss: 0.6753 - val_dense_1_loss: 0.6560 - val_dense_3_loss: 0.6754 - val_dense_4_accuracy: 0.6562 - val_dense_1_accuracy: 0.6562 - val_dense_3_accuracy: 0.6562\n",
            "Epoch 9/50\n",
            "32/32 [==============================] - 15s 484ms/step - loss: 2.0636 - dense_4_loss: 0.6832 - dense_1_loss: 0.6846 - dense_3_loss: 0.6959 - dense_4_accuracy: 0.5885 - dense_1_accuracy: 0.5825 - dense_3_accuracy: 0.5585 - val_loss: 1.9191 - val_dense_4_loss: 0.6379 - val_dense_1_loss: 0.6413 - val_dense_3_loss: 0.6399 - val_dense_4_accuracy: 0.6719 - val_dense_1_accuracy: 0.6719 - val_dense_3_accuracy: 0.6719\n",
            "Epoch 10/50\n",
            "32/32 [==============================] - 15s 479ms/step - loss: 1.9780 - dense_4_loss: 0.6617 - dense_1_loss: 0.6587 - dense_3_loss: 0.6576 - dense_4_accuracy: 0.6415 - dense_1_accuracy: 0.6481 - dense_3_accuracy: 0.6349 - val_loss: 2.0285 - val_dense_4_loss: 0.6806 - val_dense_1_loss: 0.6722 - val_dense_3_loss: 0.6757 - val_dense_4_accuracy: 0.6055 - val_dense_1_accuracy: 0.6055 - val_dense_3_accuracy: 0.6055\n",
            "Epoch 11/50\n",
            "32/32 [==============================] - 15s 472ms/step - loss: 1.9520 - dense_4_loss: 0.6479 - dense_1_loss: 0.6388 - dense_3_loss: 0.6653 - dense_4_accuracy: 0.6638 - dense_1_accuracy: 0.6621 - dense_3_accuracy: 0.6604 - val_loss: 1.9535 - val_dense_4_loss: 0.6536 - val_dense_1_loss: 0.6477 - val_dense_3_loss: 0.6522 - val_dense_4_accuracy: 0.6562 - val_dense_1_accuracy: 0.6562 - val_dense_3_accuracy: 0.6562\n",
            "Epoch 12/50\n",
            "32/32 [==============================] - 15s 460ms/step - loss: 2.0154 - dense_4_loss: 0.6738 - dense_1_loss: 0.6657 - dense_3_loss: 0.6759 - dense_4_accuracy: 0.6227 - dense_1_accuracy: 0.6289 - dense_3_accuracy: 0.6035 - val_loss: 1.9776 - val_dense_4_loss: 0.6603 - val_dense_1_loss: 0.6579 - val_dense_3_loss: 0.6594 - val_dense_4_accuracy: 0.6289 - val_dense_1_accuracy: 0.6289 - val_dense_3_accuracy: 0.6289\n",
            "Epoch 13/50\n",
            "32/32 [==============================] - 15s 471ms/step - loss: 2.0143 - dense_4_loss: 0.6740 - dense_1_loss: 0.6635 - dense_3_loss: 0.6767 - dense_4_accuracy: 0.6082 - dense_1_accuracy: 0.6211 - dense_3_accuracy: 0.6169 - val_loss: 2.1733 - val_dense_4_loss: 0.7619 - val_dense_1_loss: 0.6990 - val_dense_3_loss: 0.7124 - val_dense_4_accuracy: 0.6133 - val_dense_1_accuracy: 0.6133 - val_dense_3_accuracy: 0.6133\n",
            "Epoch 14/50\n",
            "32/32 [==============================] - 15s 464ms/step - loss: 1.9320 - dense_4_loss: 0.6518 - dense_1_loss: 0.6314 - dense_3_loss: 0.6489 - dense_4_accuracy: 0.6631 - dense_1_accuracy: 0.6649 - dense_3_accuracy: 0.6617 - val_loss: 1.8867 - val_dense_4_loss: 0.6305 - val_dense_1_loss: 0.6265 - val_dense_3_loss: 0.6296 - val_dense_4_accuracy: 0.6758 - val_dense_1_accuracy: 0.6758 - val_dense_3_accuracy: 0.6758\n",
            "Epoch 15/50\n",
            "32/32 [==============================] - 15s 464ms/step - loss: 2.0121 - dense_4_loss: 0.6678 - dense_1_loss: 0.6692 - dense_3_loss: 0.6751 - dense_4_accuracy: 0.5979 - dense_1_accuracy: 0.6150 - dense_3_accuracy: 0.6111 - val_loss: 1.9583 - val_dense_4_loss: 0.6625 - val_dense_1_loss: 0.6504 - val_dense_3_loss: 0.6454 - val_dense_4_accuracy: 0.6758 - val_dense_1_accuracy: 0.6758 - val_dense_3_accuracy: 0.6758\n",
            "Epoch 16/50\n",
            "32/32 [==============================] - 15s 458ms/step - loss: 2.0591 - dense_4_loss: 0.6839 - dense_1_loss: 0.6774 - dense_3_loss: 0.6978 - dense_4_accuracy: 0.6150 - dense_1_accuracy: 0.6056 - dense_3_accuracy: 0.5384 - val_loss: 2.0009 - val_dense_4_loss: 0.6677 - val_dense_1_loss: 0.6644 - val_dense_3_loss: 0.6689 - val_dense_4_accuracy: 0.6211 - val_dense_1_accuracy: 0.6211 - val_dense_3_accuracy: 0.6211\n",
            "Epoch 17/50\n",
            "32/32 [==============================] - 15s 463ms/step - loss: 1.9644 - dense_4_loss: 0.6531 - dense_1_loss: 0.6541 - dense_3_loss: 0.6572 - dense_4_accuracy: 0.6482 - dense_1_accuracy: 0.6466 - dense_3_accuracy: 0.6299 - val_loss: 2.0724 - val_dense_4_loss: 0.6934 - val_dense_1_loss: 0.6884 - val_dense_3_loss: 0.6906 - val_dense_4_accuracy: 0.5742 - val_dense_1_accuracy: 0.5742 - val_dense_3_accuracy: 0.5742\n",
            "Epoch 18/50\n",
            "32/32 [==============================] - 15s 454ms/step - loss: 2.0088 - dense_4_loss: 0.6715 - dense_1_loss: 0.6699 - dense_3_loss: 0.6675 - dense_4_accuracy: 0.6149 - dense_1_accuracy: 0.6135 - dense_3_accuracy: 0.6160 - val_loss: 1.9562 - val_dense_4_loss: 0.6521 - val_dense_1_loss: 0.6517 - val_dense_3_loss: 0.6524 - val_dense_4_accuracy: 0.6445 - val_dense_1_accuracy: 0.6445 - val_dense_3_accuracy: 0.6445\n",
            "Epoch 19/50\n",
            "32/32 [==============================] - 15s 457ms/step - loss: 1.9566 - dense_4_loss: 0.6519 - dense_1_loss: 0.6510 - dense_3_loss: 0.6537 - dense_4_accuracy: 0.6568 - dense_1_accuracy: 0.6525 - dense_3_accuracy: 0.6532 - val_loss: 1.9443 - val_dense_4_loss: 0.6512 - val_dense_1_loss: 0.6424 - val_dense_3_loss: 0.6507 - val_dense_4_accuracy: 0.6406 - val_dense_1_accuracy: 0.6406 - val_dense_3_accuracy: 0.6406\n",
            "Epoch 20/50\n",
            "32/32 [==============================] - 15s 453ms/step - loss: 1.9750 - dense_4_loss: 0.6616 - dense_1_loss: 0.6571 - dense_3_loss: 0.6562 - dense_4_accuracy: 0.6384 - dense_1_accuracy: 0.6399 - dense_3_accuracy: 0.6382 - val_loss: 2.0996 - val_dense_4_loss: 0.6988 - val_dense_1_loss: 0.7004 - val_dense_3_loss: 0.7004 - val_dense_4_accuracy: 0.5508 - val_dense_1_accuracy: 0.5508 - val_dense_3_accuracy: 0.5508\n",
            "Epoch 21/50\n",
            "32/32 [==============================] - 15s 465ms/step - loss: 2.0393 - dense_4_loss: 0.6804 - dense_1_loss: 0.6717 - dense_3_loss: 0.6873 - dense_4_accuracy: 0.6042 - dense_1_accuracy: 0.6066 - dense_3_accuracy: 0.6013 - val_loss: 1.9685 - val_dense_4_loss: 0.6603 - val_dense_1_loss: 0.6530 - val_dense_3_loss: 0.6552 - val_dense_4_accuracy: 0.6367 - val_dense_1_accuracy: 0.6367 - val_dense_3_accuracy: 0.6367\n",
            "Epoch 22/50\n",
            "32/32 [==============================] - 15s 457ms/step - loss: 2.0457 - dense_4_loss: 0.6755 - dense_1_loss: 0.6793 - dense_3_loss: 0.6909 - dense_4_accuracy: 0.5892 - dense_1_accuracy: 0.5967 - dense_3_accuracy: 0.5831 - val_loss: 2.0112 - val_dense_4_loss: 0.6661 - val_dense_1_loss: 0.6722 - val_dense_3_loss: 0.6729 - val_dense_4_accuracy: 0.6250 - val_dense_1_accuracy: 0.6250 - val_dense_3_accuracy: 0.6250\n",
            "Epoch 23/50\n",
            "32/32 [==============================] - 15s 457ms/step - loss: 2.0411 - dense_4_loss: 0.6817 - dense_1_loss: 0.6693 - dense_3_loss: 0.6900 - dense_4_accuracy: 0.5917 - dense_1_accuracy: 0.5934 - dense_3_accuracy: 0.5853 - val_loss: 1.9932 - val_dense_4_loss: 0.6636 - val_dense_1_loss: 0.6650 - val_dense_3_loss: 0.6647 - val_dense_4_accuracy: 0.6211 - val_dense_1_accuracy: 0.6211 - val_dense_3_accuracy: 0.6211\n",
            "Epoch 24/50\n",
            "32/32 [==============================] - 15s 453ms/step - loss: 1.9970 - dense_4_loss: 0.6664 - dense_1_loss: 0.6630 - dense_3_loss: 0.6676 - dense_4_accuracy: 0.6238 - dense_1_accuracy: 0.6131 - dense_3_accuracy: 0.6342 - val_loss: 1.9540 - val_dense_4_loss: 0.6526 - val_dense_1_loss: 0.6492 - val_dense_3_loss: 0.6522 - val_dense_4_accuracy: 0.6406 - val_dense_1_accuracy: 0.6406 - val_dense_3_accuracy: 0.6406\n",
            "Epoch 25/50\n",
            "32/32 [==============================] - 15s 457ms/step - loss: 1.9980 - dense_4_loss: 0.6637 - dense_1_loss: 0.6659 - dense_3_loss: 0.6683 - dense_4_accuracy: 0.6319 - dense_1_accuracy: 0.6316 - dense_3_accuracy: 0.6291 - val_loss: 1.9157 - val_dense_4_loss: 0.6401 - val_dense_1_loss: 0.6359 - val_dense_3_loss: 0.6397 - val_dense_4_accuracy: 0.6602 - val_dense_1_accuracy: 0.6602 - val_dense_3_accuracy: 0.6602\n",
            "Epoch 26/50\n",
            "32/32 [==============================] - 15s 455ms/step - loss: 1.9926 - dense_4_loss: 0.6631 - dense_1_loss: 0.6637 - dense_3_loss: 0.6659 - dense_4_accuracy: 0.6280 - dense_1_accuracy: 0.6280 - dense_3_accuracy: 0.6336 - val_loss: 2.0490 - val_dense_4_loss: 0.6883 - val_dense_1_loss: 0.6782 - val_dense_3_loss: 0.6825 - val_dense_4_accuracy: 0.5898 - val_dense_1_accuracy: 0.5898 - val_dense_3_accuracy: 0.5898\n",
            "Epoch 27/50\n",
            "32/32 [==============================] - 15s 454ms/step - loss: 1.9892 - dense_4_loss: 0.6622 - dense_1_loss: 0.6617 - dense_3_loss: 0.6654 - dense_4_accuracy: 0.6336 - dense_1_accuracy: 0.6339 - dense_3_accuracy: 0.6291 - val_loss: 2.0036 - val_dense_4_loss: 0.6677 - val_dense_1_loss: 0.6681 - val_dense_3_loss: 0.6679 - val_dense_4_accuracy: 0.6133 - val_dense_1_accuracy: 0.6133 - val_dense_3_accuracy: 0.6133\n",
            "Epoch 28/50\n",
            "32/32 [==============================] - 14s 445ms/step - loss: 1.9710 - dense_4_loss: 0.6520 - dense_1_loss: 0.6576 - dense_3_loss: 0.6614 - dense_4_accuracy: 0.6500 - dense_1_accuracy: 0.6481 - dense_3_accuracy: 0.6500 - val_loss: 1.9366 - val_dense_4_loss: 0.6464 - val_dense_1_loss: 0.6434 - val_dense_3_loss: 0.6469 - val_dense_4_accuracy: 0.6523 - val_dense_1_accuracy: 0.6523 - val_dense_3_accuracy: 0.6523\n",
            "Epoch 29/50\n",
            "32/32 [==============================] - 14s 450ms/step - loss: 1.9684 - dense_4_loss: 0.6548 - dense_1_loss: 0.6519 - dense_3_loss: 0.6616 - dense_4_accuracy: 0.6499 - dense_1_accuracy: 0.6499 - dense_3_accuracy: 0.6483 - val_loss: 1.9603 - val_dense_4_loss: 0.6558 - val_dense_1_loss: 0.6505 - val_dense_3_loss: 0.6540 - val_dense_4_accuracy: 0.6367 - val_dense_1_accuracy: 0.6367 - val_dense_3_accuracy: 0.6367\n",
            "Epoch 30/50\n",
            "32/32 [==============================] - 14s 446ms/step - loss: 2.0150 - dense_4_loss: 0.6715 - dense_1_loss: 0.6689 - dense_3_loss: 0.6746 - dense_4_accuracy: 0.6201 - dense_1_accuracy: 0.6118 - dense_3_accuracy: 0.6106 - val_loss: 1.9910 - val_dense_4_loss: 0.6637 - val_dense_1_loss: 0.6634 - val_dense_3_loss: 0.6640 - val_dense_4_accuracy: 0.6211 - val_dense_1_accuracy: 0.6211 - val_dense_3_accuracy: 0.6211\n",
            "Epoch 31/50\n",
            "32/32 [==============================] - 14s 448ms/step - loss: 1.9353 - dense_4_loss: 0.6493 - dense_1_loss: 0.6383 - dense_3_loss: 0.6477 - dense_4_accuracy: 0.6514 - dense_1_accuracy: 0.6551 - dense_3_accuracy: 0.6537 - val_loss: 1.8921 - val_dense_4_loss: 0.6329 - val_dense_1_loss: 0.6276 - val_dense_3_loss: 0.6315 - val_dense_4_accuracy: 0.6719 - val_dense_1_accuracy: 0.6719 - val_dense_3_accuracy: 0.6719\n",
            "Epoch 32/50\n",
            "32/32 [==============================] - 15s 459ms/step - loss: 2.0009 - dense_4_loss: 0.6697 - dense_1_loss: 0.6621 - dense_3_loss: 0.6692 - dense_4_accuracy: 0.6244 - dense_1_accuracy: 0.6236 - dense_3_accuracy: 0.6226 - val_loss: 2.0344 - val_dense_4_loss: 0.6694 - val_dense_1_loss: 0.6960 - val_dense_3_loss: 0.6690 - val_dense_4_accuracy: 0.6094 - val_dense_1_accuracy: 0.6094 - val_dense_3_accuracy: 0.6094\n",
            "Epoch 33/50\n",
            "32/32 [==============================] - 14s 446ms/step - loss: 2.0358 - dense_4_loss: 0.6723 - dense_1_loss: 0.6931 - dense_3_loss: 0.6704 - dense_4_accuracy: 0.6348 - dense_1_accuracy: 0.6330 - dense_3_accuracy: 0.6319 - val_loss: 1.9426 - val_dense_4_loss: 0.6531 - val_dense_1_loss: 0.6462 - val_dense_3_loss: 0.6434 - val_dense_4_accuracy: 0.6562 - val_dense_1_accuracy: 0.6562 - val_dense_3_accuracy: 0.6562\n",
            "Epoch 34/50\n",
            "32/32 [==============================] - 14s 451ms/step - loss: 2.0334 - dense_4_loss: 0.6759 - dense_1_loss: 0.6752 - dense_3_loss: 0.6823 - dense_4_accuracy: 0.6137 - dense_1_accuracy: 0.6203 - dense_3_accuracy: 0.6175 - val_loss: 2.0277 - val_dense_4_loss: 0.6811 - val_dense_1_loss: 0.6689 - val_dense_3_loss: 0.6777 - val_dense_4_accuracy: 0.6094 - val_dense_1_accuracy: 0.6094 - val_dense_3_accuracy: 0.6094\n",
            "Epoch 35/50\n",
            "32/32 [==============================] - 15s 453ms/step - loss: 1.9678 - dense_4_loss: 0.6582 - dense_1_loss: 0.6493 - dense_3_loss: 0.6603 - dense_4_accuracy: 0.6522 - dense_1_accuracy: 0.6484 - dense_3_accuracy: 0.6301 - val_loss: 1.9766 - val_dense_4_loss: 0.6648 - val_dense_1_loss: 0.6585 - val_dense_3_loss: 0.6533 - val_dense_4_accuracy: 0.6641 - val_dense_1_accuracy: 0.6641 - val_dense_3_accuracy: 0.6641\n",
            "Epoch 36/50\n",
            "32/32 [==============================] - 14s 449ms/step - loss: 2.0490 - dense_4_loss: 0.6811 - dense_1_loss: 0.6749 - dense_3_loss: 0.6930 - dense_4_accuracy: 0.5708 - dense_1_accuracy: 0.6040 - dense_3_accuracy: 0.5863 - val_loss: 1.9238 - val_dense_4_loss: 0.6429 - val_dense_1_loss: 0.6402 - val_dense_3_loss: 0.6407 - val_dense_4_accuracy: 0.6641 - val_dense_1_accuracy: 0.6641 - val_dense_3_accuracy: 0.6641\n",
            "Epoch 37/50\n",
            "32/32 [==============================] - 14s 443ms/step - loss: 1.9681 - dense_4_loss: 0.6555 - dense_1_loss: 0.6537 - dense_3_loss: 0.6588 - dense_4_accuracy: 0.6423 - dense_1_accuracy: 0.6423 - dense_3_accuracy: 0.6408 - val_loss: 1.9674 - val_dense_4_loss: 0.6588 - val_dense_1_loss: 0.6502 - val_dense_3_loss: 0.6583 - val_dense_4_accuracy: 0.6445 - val_dense_1_accuracy: 0.6445 - val_dense_3_accuracy: 0.6445\n",
            "Epoch 38/50\n",
            "32/32 [==============================] - 15s 454ms/step - loss: 1.9965 - dense_4_loss: 0.6626 - dense_1_loss: 0.6629 - dense_3_loss: 0.6711 - dense_4_accuracy: 0.6335 - dense_1_accuracy: 0.6335 - dense_3_accuracy: 0.6336 - val_loss: 1.9459 - val_dense_4_loss: 0.6480 - val_dense_1_loss: 0.6505 - val_dense_3_loss: 0.6474 - val_dense_4_accuracy: 0.6602 - val_dense_1_accuracy: 0.6602 - val_dense_3_accuracy: 0.6602\n",
            "Epoch 39/50\n",
            "32/32 [==============================] - 15s 456ms/step - loss: 1.9806 - dense_4_loss: 0.6606 - dense_1_loss: 0.6584 - dense_3_loss: 0.6616 - dense_4_accuracy: 0.6362 - dense_1_accuracy: 0.6361 - dense_3_accuracy: 0.6358 - val_loss: 1.9738 - val_dense_4_loss: 0.6587 - val_dense_1_loss: 0.6577 - val_dense_3_loss: 0.6574 - val_dense_4_accuracy: 0.6328 - val_dense_1_accuracy: 0.6328 - val_dense_3_accuracy: 0.6328\n",
            "Epoch 40/50\n",
            "32/32 [==============================] - 14s 447ms/step - loss: 1.9489 - dense_4_loss: 0.6475 - dense_1_loss: 0.6496 - dense_3_loss: 0.6518 - dense_4_accuracy: 0.6560 - dense_1_accuracy: 0.6528 - dense_3_accuracy: 0.6543 - val_loss: 1.9901 - val_dense_4_loss: 0.6683 - val_dense_1_loss: 0.6566 - val_dense_3_loss: 0.6651 - val_dense_4_accuracy: 0.6172 - val_dense_1_accuracy: 0.6172 - val_dense_3_accuracy: 0.6172\n",
            "Epoch 41/50\n",
            "32/32 [==============================] - 14s 451ms/step - loss: 2.0082 - dense_4_loss: 0.6749 - dense_1_loss: 0.6664 - dense_3_loss: 0.6669 - dense_4_accuracy: 0.6137 - dense_1_accuracy: 0.5993 - dense_3_accuracy: 0.6092 - val_loss: 1.9405 - val_dense_4_loss: 0.6502 - val_dense_1_loss: 0.6444 - val_dense_3_loss: 0.6460 - val_dense_4_accuracy: 0.6797 - val_dense_1_accuracy: 0.6797 - val_dense_3_accuracy: 0.6797\n",
            "Epoch 42/50\n",
            "32/32 [==============================] - 14s 442ms/step - loss: 1.9604 - dense_4_loss: 0.6542 - dense_1_loss: 0.6453 - dense_3_loss: 0.6608 - dense_4_accuracy: 0.6604 - dense_1_accuracy: 0.6583 - dense_3_accuracy: 0.6622 - val_loss: 2.0114 - val_dense_4_loss: 0.6717 - val_dense_1_loss: 0.6675 - val_dense_3_loss: 0.6722 - val_dense_4_accuracy: 0.6016 - val_dense_1_accuracy: 0.6016 - val_dense_3_accuracy: 0.6016\n",
            "Epoch 43/50\n",
            "32/32 [==============================] - 15s 453ms/step - loss: 1.9835 - dense_4_loss: 0.6636 - dense_1_loss: 0.6572 - dense_3_loss: 0.6627 - dense_4_accuracy: 0.6327 - dense_1_accuracy: 0.6241 - dense_3_accuracy: 0.6350 - val_loss: 1.9523 - val_dense_4_loss: 0.6550 - val_dense_1_loss: 0.6510 - val_dense_3_loss: 0.6463 - val_dense_4_accuracy: 0.6562 - val_dense_1_accuracy: 0.6562 - val_dense_3_accuracy: 0.6562\n",
            "Epoch 44/50\n",
            "32/32 [==============================] - 14s 448ms/step - loss: 2.0183 - dense_4_loss: 0.6739 - dense_1_loss: 0.6617 - dense_3_loss: 0.6827 - dense_4_accuracy: 0.6045 - dense_1_accuracy: 0.6020 - dense_3_accuracy: 0.5930 - val_loss: 1.9243 - val_dense_4_loss: 0.6474 - val_dense_1_loss: 0.6308 - val_dense_3_loss: 0.6460 - val_dense_4_accuracy: 0.6406 - val_dense_1_accuracy: 0.6406 - val_dense_3_accuracy: 0.6406\n",
            "Epoch 45/50\n",
            "32/32 [==============================] - 14s 452ms/step - loss: 2.0000 - dense_4_loss: 0.6688 - dense_1_loss: 0.6651 - dense_3_loss: 0.6662 - dense_4_accuracy: 0.6114 - dense_1_accuracy: 0.6061 - dense_3_accuracy: 0.6047 - val_loss: 1.9649 - val_dense_4_loss: 0.6552 - val_dense_1_loss: 0.6547 - val_dense_3_loss: 0.6551 - val_dense_4_accuracy: 0.6328 - val_dense_1_accuracy: 0.6328 - val_dense_3_accuracy: 0.6328\n",
            "Epoch 46/50\n",
            "32/32 [==============================] - 14s 450ms/step - loss: 1.9103 - dense_4_loss: 0.6333 - dense_1_loss: 0.6358 - dense_3_loss: 0.6412 - dense_4_accuracy: 0.6733 - dense_1_accuracy: 0.6720 - dense_3_accuracy: 0.6733 - val_loss: 1.9461 - val_dense_4_loss: 0.6553 - val_dense_1_loss: 0.6385 - val_dense_3_loss: 0.6522 - val_dense_4_accuracy: 0.6406 - val_dense_1_accuracy: 0.6406 - val_dense_3_accuracy: 0.6406\n",
            "Epoch 47/50\n",
            "32/32 [==============================] - 14s 436ms/step - loss: 1.9625 - dense_4_loss: 0.6560 - dense_1_loss: 0.6487 - dense_3_loss: 0.6578 - dense_4_accuracy: 0.6408 - dense_1_accuracy: 0.6398 - dense_3_accuracy: 0.6494 - val_loss: 2.0311 - val_dense_4_loss: 0.6809 - val_dense_1_loss: 0.6734 - val_dense_3_loss: 0.6767 - val_dense_4_accuracy: 0.5898 - val_dense_1_accuracy: 0.5898 - val_dense_3_accuracy: 0.5898\n",
            "Epoch 48/50\n",
            "32/32 [==============================] - 14s 449ms/step - loss: 2.0137 - dense_4_loss: 0.6712 - dense_1_loss: 0.6688 - dense_3_loss: 0.6736 - dense_4_accuracy: 0.5924 - dense_1_accuracy: 0.6001 - dense_3_accuracy: 0.5879 - val_loss: 1.9020 - val_dense_4_loss: 0.6372 - val_dense_1_loss: 0.6291 - val_dense_3_loss: 0.6356 - val_dense_4_accuracy: 0.6680 - val_dense_1_accuracy: 0.6680 - val_dense_3_accuracy: 0.6680\n",
            "Epoch 49/50\n",
            "32/32 [==============================] - 14s 442ms/step - loss: 1.9600 - dense_4_loss: 0.6520 - dense_1_loss: 0.6487 - dense_3_loss: 0.6594 - dense_4_accuracy: 0.6362 - dense_1_accuracy: 0.6362 - dense_3_accuracy: 0.6253 - val_loss: 1.9265 - val_dense_4_loss: 0.6429 - val_dense_1_loss: 0.6412 - val_dense_3_loss: 0.6425 - val_dense_4_accuracy: 0.6562 - val_dense_1_accuracy: 0.6562 - val_dense_3_accuracy: 0.6562\n",
            "Epoch 50/50\n",
            "32/32 [==============================] - 14s 446ms/step - loss: 1.9772 - dense_4_loss: 0.6572 - dense_1_loss: 0.6525 - dense_3_loss: 0.6675 - dense_4_accuracy: 0.6416 - dense_1_accuracy: 0.6400 - dense_3_accuracy: 0.6429 - val_loss: 1.8886 - val_dense_4_loss: 0.6350 - val_dense_1_loss: 0.6213 - val_dense_3_loss: 0.6323 - val_dense_4_accuracy: 0.6914 - val_dense_1_accuracy: 0.6914 - val_dense_3_accuracy: 0.6914\n"
          ],
          "name": "stdout"
        }
      ]
    },
    {
      "cell_type": "markdown",
      "metadata": {
        "id": "9F5mV8WCAC1E"
      },
      "source": [
        "## Metrics: Accuracy"
      ]
    },
    {
      "cell_type": "code",
      "metadata": {
        "colab": {
          "base_uri": "https://localhost:8080/"
        },
        "id": "MOlDqL4_e-68",
        "outputId": "07c64693-9a9e-4dd8-e3b3-ea3696a941eb"
      },
      "source": [
        "model.evaluate(test_generator)"
      ],
      "execution_count": 22,
      "outputs": [
        {
          "output_type": "stream",
          "text": [
            "386/386 [==============================] - 68s 176ms/step - loss: 1.9600 - dense_4_loss: 0.6562 - dense_1_loss: 0.6492 - dense_3_loss: 0.6547 - dense_4_accuracy: 0.6393 - dense_1_accuracy: 0.6393 - dense_3_accuracy: 0.6393\n"
          ],
          "name": "stdout"
        },
        {
          "output_type": "execute_result",
          "data": {
            "text/plain": [
              "[1.9600166082382202,\n",
              " 0.6562042236328125,\n",
              " 0.6491546034812927,\n",
              " 0.6546580791473389,\n",
              " 0.6392990350723267,\n",
              " 0.6392990350723267,\n",
              " 0.6392990350723267]"
            ]
          },
          "metadata": {
            "tags": []
          },
          "execution_count": 22
        }
      ]
    },
    {
      "cell_type": "markdown",
      "metadata": {
        "id": "5Z5_pamWAMeq"
      },
      "source": [
        "Now, let's calculate our ROC curve and plot it.\n",
        "\n",
        "First, let's make predictions on our validation set. When using generators to make predictions, we must first turn off shuffle (as we did when we created validation_generator) and reset the generator:"
      ]
    },
    {
      "cell_type": "code",
      "metadata": {
        "colab": {
          "base_uri": "https://localhost:8080/"
        },
        "id": "VcM8E_86kbhV",
        "outputId": "228ef6e3-0266-4378-ec99-95a93f5b3e4a"
      },
      "source": [
        "STEP_SIZE_TEST=test_generator.n//test_generator.batch_size\n",
        "test_generator.reset()\n",
        "preds = model.predict(test_generator,\n",
        "                      verbose=1)"
      ],
      "execution_count": 23,
      "outputs": [
        {
          "output_type": "stream",
          "text": [
            "386/386 [==============================] - 63s 162ms/step\n"
          ],
          "name": "stdout"
        }
      ]
    },
    {
      "cell_type": "code",
      "metadata": {
        "id": "2xadxc75p4bM"
      },
      "source": [
        ""
      ],
      "execution_count": null,
      "outputs": []
    }
  ]
}