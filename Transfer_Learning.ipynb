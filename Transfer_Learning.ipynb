{
  "nbformat": 4,
  "nbformat_minor": 0,
  "metadata": {
    "colab": {
      "name": "Transfer Learning.ipynb",
      "provenance": [],
      "collapsed_sections": [],
      "include_colab_link": true
    },
    "kernelspec": {
      "name": "python3",
      "display_name": "Python 3"
    },
    "language_info": {
      "name": "python"
    },
    "accelerator": "GPU"
  },
  "cells": [
    {
      "cell_type": "markdown",
      "metadata": {
        "id": "view-in-github",
        "colab_type": "text"
      },
      "source": [
        "<a href=\"https://colab.research.google.com/github/rajaramkuberan/ANN_Coursework_Coventry_Univ/blob/main/Transfer_Learning.ipynb\" target=\"_parent\"><img src=\"https://colab.research.google.com/assets/colab-badge.svg\" alt=\"Open In Colab\"/></a>"
      ]
    },
    {
      "cell_type": "markdown",
      "metadata": {
        "id": "oH84ODyryZw0"
      },
      "source": [
        "# **ANN Coursework**\n",
        "\n",
        "## Project Contributors\n",
        "\n",
        "####Rajaram Kuberan, Ashish Solanki \n",
        "\n",
        "Here, we will train the transferlearning NN to perform image classification on Ketogenic and Non-Ketogenic Food items, using transfer learning. Transfer learning means we will use. We will be using TensorFlow/Keras to build our neural network and training/test dataset. First, let's download the training and test data:\n",
        "we have provided dada in github for public use. "
      ]
    },
    {
      "cell_type": "code",
      "metadata": {
        "colab": {
          "base_uri": "https://localhost:8080/"
        },
        "id": "N5RUZ2-T_CBc",
        "outputId": "bd5279cc-ea74-41dd-ddb8-9d9aa8ccaa54"
      },
      "source": [
        "!git clone https://github.com/rajaramkuberan/ANN_Coursework_Coventry_Univ.git"
      ],
      "execution_count": 1,
      "outputs": [
        {
          "output_type": "stream",
          "text": [
            "Cloning into 'ANN_Coursework_Coventry_Univ'...\n",
            "remote: Enumerating objects: 4703, done.\u001b[K\n",
            "remote: Counting objects: 100% (4703/4703), done.\u001b[K\n",
            "remote: Compressing objects: 100% (4695/4695), done.\u001b[K\n",
            "remote: Total 30307 (delta 11), reused 4696 (delta 8), pack-reused 25604\u001b[K\n",
            "Receiving objects: 100% (30307/30307), 6.11 GiB | 39.71 MiB/s, done.\n",
            "Resolving deltas: 100% (308/308), done.\n",
            "Checking out files: 100% (31402/31402), done.\n"
          ],
          "name": "stdout"
        }
      ]
    },
    {
      "cell_type": "markdown",
      "metadata": {
        "id": "sLV2IHrVy_qe"
      },
      "source": [
        "#### **Data Preprocessing**\n",
        "\n",
        "Now ,let's use ImageDataGenerator class to create our train and test dataset and normalize our data. \n",
        "\n",
        "It's important to normalize our data because data going into our CNN to improve its overall performance. We will use the rescale parameter to scale our image pixel values from [0, 255] to [0,1].\n",
        "\n",
        "In each generator, we specify the source directory of our images, the classes, the input image size, the batch size (how many images to process at once), and class mode."
      ]
    },
    {
      "cell_type": "code",
      "metadata": {
        "id": "m-PAACY8BeK9"
      },
      "source": [
        "import tensorflow as tf\n",
        "from tensorflow.keras.applications.resnet50 import ResNet50\n",
        "from tensorflow.keras.applications import MobileNetV3Large, VGG19, VGG16, MobileNetV2,InceptionV3\n",
        "from tensorflow.keras.models import Sequential\n",
        "from tensorflow.keras.layers import Flatten\n",
        "from tensorflow.keras.layers import Dense\n",
        "from keras.preprocessing.image import ImageDataGenerator\n",
        "import numpy as np\n",
        "import matplotlib.pyplot as plt\n",
        "\n",
        "from sklearn import svm, datasets\n",
        "from sklearn.metrics import roc_curve, auc\n",
        "from sklearn.model_selection import train_test_split\n",
        "from sklearn.preprocessing import label_binarize\n",
        "from sklearn.multiclass import OneVsRestClassifier\n",
        "from scipy import interp\n",
        "from sklearn.metrics import roc_auc_score"
      ],
      "execution_count": 2,
      "outputs": []
    },
    {
      "cell_type": "code",
      "metadata": {
        "id": "h7mPyyiKBXEm"
      },
      "source": [
        "# initialising the image size as 224x224\n",
        "IMAGE_SIZE = [224,224]\n",
        "\n",
        "\n",
        "# Setting the Path to test and train data \n",
        "test_path = '/content/ANN_Coursework_Coventry_Univ/test'\n",
        "train_path = '/content/ANN_Coursework_Coventry_Univ/train'"
      ],
      "execution_count": 3,
      "outputs": []
    },
    {
      "cell_type": "code",
      "metadata": {
        "id": "pNYEDpQMBZHg"
      },
      "source": [
        "# transforming train data images\n",
        "train_datagen = ImageDataGenerator(rescale = 1/255)\n",
        "\n",
        "# transforming train data images\n",
        "test_datagen = ImageDataGenerator(rescale = 1/255)\n"
      ],
      "execution_count": 4,
      "outputs": []
    },
    {
      "cell_type": "code",
      "metadata": {
        "colab": {
          "base_uri": "https://localhost:8080/"
        },
        "id": "1wFOpwsNBZEH",
        "outputId": "4b2b8ad0-7723-496a-b5ac-f8fc5beb28c4"
      },
      "source": [
        "#training data \n",
        "train_generator = train_datagen.flow_from_directory(\n",
        "        '/content/ANN_Coursework_Coventry_Univ/train',  # This is the source directory for training images\n",
        "        classes = ['Keto_train', 'Non_Keto_train'],\n",
        "        target_size=(224, 224),  # All images will be resized to 224x224\n",
        "        batch_size=32,\n",
        "        # Use binary labels\n",
        "        class_mode='binary')\n",
        "\n",
        "# testing data\n",
        "test_generator = test_datagen.flow_from_directory(\n",
        "        '/content/ANN_Coursework_Coventry_Univ/test',  # This is the source directory for training images\n",
        "        classes = ['Keto_test', 'Non_Keto_Test'],\n",
        "        target_size=(224, 224),  # All images will be resized to 224x224\n",
        "        batch_size=16,\n",
        "        # Use binary labels\n",
        "        class_mode='binary')"
      ],
      "execution_count": 5,
      "outputs": [
        {
          "output_type": "stream",
          "text": [
            "Found 24861 images belonging to 2 classes.\n",
            "Found 6163 images belonging to 2 classes.\n"
          ],
          "name": "stdout"
        }
      ]
    },
    {
      "cell_type": "markdown",
      "metadata": {
        "id": "06rVjiklzEYi"
      },
      "source": [
        "# **Building the Model**\n",
        "\n",
        "Transfer Learning using Mobilenet Architectures. Using imagenet weights for training\n"
      ]
    },
    {
      "cell_type": "code",
      "metadata": {
        "colab": {
          "base_uri": "https://localhost:8080/"
        },
        "id": "fvmOkEtfA-Ct",
        "outputId": "0f9f542e-600c-4c30-ea3b-f578a9e1492f"
      },
      "source": [
        "model = Sequential()\n",
        "model.add(MobileNetV2(include_top = False, weights=\"imagenet\", input_shape=(224, 224, 3)))\n",
        "model.add(tf.keras.layers.GlobalAveragePooling2D())\n",
        "model.add(Dense(1, activation = 'sigmoid'))\n",
        "model.layers[0].trainable = False"
      ],
      "execution_count": 6,
      "outputs": [
        {
          "output_type": "stream",
          "text": [
            "Downloading data from https://storage.googleapis.com/tensorflow/keras-applications/mobilenet_v2/mobilenet_v2_weights_tf_dim_ordering_tf_kernels_1.0_224_no_top.h5\n",
            "9412608/9406464 [==============================] - 0s 0us/step\n"
          ],
          "name": "stdout"
        }
      ]
    },
    {
      "cell_type": "code",
      "metadata": {
        "id": "c0mOkILA2Ent"
      },
      "source": [
        "from tensorflow.keras.optimizers import RMSprop, Adam\n",
        "\n",
        "from tensorflow.keras import optimizers\n",
        "\n",
        "#model.compile(optimizer=Adam, loss = 'binary_crossentropy', metrics = 'accuracy')\n",
        "model.compile(optimizer=RMSprop(lr=0.01), loss = 'binary_crossentropy', metrics = 'accuracy')"
      ],
      "execution_count": 7,
      "outputs": []
    },
    {
      "cell_type": "markdown",
      "metadata": {
        "id": "ybmuKrr4zKL7"
      },
      "source": [
        "### **Training**\n",
        "Let's train for 300 epochs -- this may take a few hours to run.\n",
        "\n",
        "Note that steps_per_epoch was set along with batch_size in ImageDataGenerator.\n",
        "\n",
        "Notice that as we train, our test accuracy never exceeds training accuracy, which is a good thing. Our model won't work better on unseen images than seen images."
      ]
    },
    {
      "cell_type": "code",
      "metadata": {
        "colab": {
          "base_uri": "https://localhost:8080/"
        },
        "id": "MYCOeC7oBNvy",
        "outputId": "8808cb39-d613-46fd-c83a-3acb2887d92f"
      },
      "source": [
        "history = model.fit(\n",
        "      train_generator,\n",
        "      steps_per_epoch=8,  \n",
        "      epochs=15,\n",
        "      verbose=1,\n",
        "      validation_data = test_generator,\n",
        "      validation_steps=5)"
      ],
      "execution_count": 8,
      "outputs": [
        {
          "output_type": "stream",
          "text": [
            "Epoch 1/15\n",
            "5/5 [==============================] - 39s 1s/step - loss: 1.6801 - accuracy: 0.5891 - val_loss: 1.7263 - val_accuracy: 0.4750\n",
            "Epoch 2/15\n",
            "5/5 [==============================] - 3s 735ms/step - loss: 1.8833 - accuracy: 0.5339 - val_loss: 0.6763 - val_accuracy: 0.6625\n",
            "Epoch 3/15\n",
            "5/5 [==============================] - 3s 744ms/step - loss: 0.9271 - accuracy: 0.6918 - val_loss: 0.7014 - val_accuracy: 0.5875\n",
            "Epoch 4/15\n",
            "5/5 [==============================] - 3s 720ms/step - loss: 0.9045 - accuracy: 0.5286 - val_loss: 1.8538 - val_accuracy: 0.6250\n",
            "Epoch 5/15\n",
            "5/5 [==============================] - 3s 729ms/step - loss: 1.1765 - accuracy: 0.6324 - val_loss: 1.2003 - val_accuracy: 0.4000\n",
            "Epoch 6/15\n",
            "5/5 [==============================] - 3s 701ms/step - loss: 1.2249 - accuracy: 0.5468 - val_loss: 1.5001 - val_accuracy: 0.6500\n",
            "Epoch 7/15\n",
            "5/5 [==============================] - 3s 708ms/step - loss: 1.1124 - accuracy: 0.6650 - val_loss: 0.7725 - val_accuracy: 0.5125\n",
            "Epoch 8/15\n",
            "5/5 [==============================] - 3s 733ms/step - loss: 1.1783 - accuracy: 0.5562 - val_loss: 1.0878 - val_accuracy: 0.6875\n",
            "Epoch 9/15\n",
            "5/5 [==============================] - 3s 707ms/step - loss: 1.3600 - accuracy: 0.5282 - val_loss: 0.6474 - val_accuracy: 0.6500\n",
            "Epoch 10/15\n",
            "5/5 [==============================] - 3s 703ms/step - loss: 0.7202 - accuracy: 0.6248 - val_loss: 0.8228 - val_accuracy: 0.6125\n",
            "Epoch 11/15\n",
            "5/5 [==============================] - 3s 710ms/step - loss: 1.1208 - accuracy: 0.5208 - val_loss: 1.5451 - val_accuracy: 0.6250\n",
            "Epoch 12/15\n",
            "5/5 [==============================] - 3s 721ms/step - loss: 0.8324 - accuracy: 0.6431 - val_loss: 0.6928 - val_accuracy: 0.7125\n",
            "Epoch 13/15\n",
            "5/5 [==============================] - 3s 702ms/step - loss: 0.9508 - accuracy: 0.6745 - val_loss: 0.7028 - val_accuracy: 0.6000\n",
            "Epoch 14/15\n",
            "5/5 [==============================] - 3s 712ms/step - loss: 0.9047 - accuracy: 0.5774 - val_loss: 1.0102 - val_accuracy: 0.6750\n",
            "Epoch 15/15\n",
            "5/5 [==============================] - 3s 724ms/step - loss: 0.7598 - accuracy: 0.7109 - val_loss: 1.2254 - val_accuracy: 0.4625\n"
          ],
          "name": "stdout"
        }
      ]
    },
    {
      "cell_type": "markdown",
      "metadata": {
        "id": "Bh5Oer7LzTX9"
      },
      "source": [
        "# Accuracy, ROC Curve, and AUC"
      ]
    },
    {
      "cell_type": "code",
      "metadata": {
        "colab": {
          "base_uri": "https://localhost:8080/"
        },
        "id": "7MkN4PKIBzSi",
        "outputId": "27c83928-4f8c-4f99-bdac-db369cad72cb"
      },
      "source": [
        "model.evaluate(test_generator)"
      ],
      "execution_count": 41,
      "outputs": [
        {
          "output_type": "stream",
          "text": [
            "386/386 [==============================] - 87s 224ms/step - loss: 1.8036 - accuracy: 0.6414\n"
          ],
          "name": "stdout"
        },
        {
          "output_type": "execute_result",
          "data": {
            "text/plain": [
              "[1.8036162853240967, 0.641408383846283]"
            ]
          },
          "metadata": {
            "tags": []
          },
          "execution_count": 41
        }
      ]
    },
    {
      "cell_type": "code",
      "metadata": {
        "id": "8H8dOoKQPHL5",
        "colab": {
          "base_uri": "https://localhost:8080/"
        },
        "outputId": "0ee2e9b3-69e2-48ab-c3b9-ca9aeaafba87"
      },
      "source": [
        "STEP_SIZE_TEST=test_generator.n//test_generator.batch_size\n",
        "test_generator.reset()\n",
        "preds = model.predict(test_generator,\n",
        "                      verbose=1)"
      ],
      "execution_count": 42,
      "outputs": [
        {
          "output_type": "stream",
          "text": [
            "386/386 [==============================] - 86s 220ms/step\n"
          ],
          "name": "stdout"
        }
      ]
    },
    {
      "cell_type": "code",
      "metadata": {
        "id": "T6izb9J3PHHK"
      },
      "source": [
        "fpr, tpr, _ = roc_curve(test_generator.classes, preds)"
      ],
      "execution_count": 49,
      "outputs": []
    },
    {
      "cell_type": "code",
      "metadata": {
        "id": "5aVMDhs1PHCi"
      },
      "source": [
        "roc_auc = auc(fpr, tpr)"
      ],
      "execution_count": 50,
      "outputs": []
    },
    {
      "cell_type": "code",
      "metadata": {
        "id": "nj82GjSZPG8u",
        "colab": {
          "base_uri": "https://localhost:8080/",
          "height": 295
        },
        "outputId": "69e8f8f4-7b30-49e4-96fa-b89c1653c1d3"
      },
      "source": [
        "plt.figure()\n",
        "lw = 2\n",
        "plt.plot(fpr, tpr, color='darkorange',\n",
        "         lw=lw, label='ROC curve (area = %0.2f)' % roc_auc)\n",
        "plt.plot([0, 1], [0, 1], color='navy', lw=lw, linestyle='--')\n",
        "plt.xlim([0.0, 1.0])\n",
        "plt.ylim([0.0, 1.05])\n",
        "plt.xlabel('False Positive Rate')\n",
        "plt.ylabel('True Positive Rate')\n",
        "plt.title('Receiver Operating Characteristic')\n",
        "plt.legend(loc=\"lower right\")\n",
        "plt.show()"
      ],
      "execution_count": 51,
      "outputs": [
        {
          "output_type": "display_data",
          "data": {
            "image/png": "[encoded data removed]",
            "text/plain": [
              "<Figure size 432x288 with 1 Axes>"
            ]
          },
          "metadata": {
            "tags": [],
            "needs_background": "light"
          }
        }
      ]
    },
    {
      "cell_type": "code",
      "metadata": {
        "id": "XoWpMrJCPG5U"
      },
      "source": [
        ""
      ],
      "execution_count": null,
      "outputs": []
    }
  ]
}