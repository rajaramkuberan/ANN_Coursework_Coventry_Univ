{
  "nbformat": 4,
  "nbformat_minor": 0,
  "metadata": {
    "colab": {
      "name": "Transfer Learning.ipynb",
      "provenance": [],
      "collapsed_sections": [],
      "toc_visible": true,
      "include_colab_link": true
    },
    "kernelspec": {
      "name": "python3",
      "display_name": "Python 3"
    },
    "language_info": {
      "name": "python"
    },
    "accelerator": "GPU"
  },
  "cells": [
    {
      "cell_type": "markdown",
      "metadata": {
        "id": "view-in-github",
        "colab_type": "text"
      },
      "source": [
        "<a href=\"https://colab.research.google.com/github/rajaramkuberan/ANN_Coursework_Coventry_Univ/blob/main/Transfer_Learning.ipynb\" target=\"_parent\"><img src=\"https://colab.research.google.com/assets/colab-badge.svg\" alt=\"Open In Colab\"/></a>"
      ]
    },
    {
      "cell_type": "markdown",
      "metadata": {
        "id": "oH84ODyryZw0"
      },
      "source": [
        "# **7088 CEM - Artificial Neural Network Coursework**\n",
        "##**Coventry University**\n",
        "\n",
        "###**Project Contributors**\n",
        "\n",
        "####**Rajaram Kuberan, Ashish Solanki**\n",
        "\n"
      ]
    },
    {
      "cell_type": "markdown",
      "metadata": {
        "id": "M1CiI_nKfrPM"
      },
      "source": [
        "# **Topic: Image Classification of Grocery Items for Ketogenic Shopping Using CNN Architectures**\n",
        "\n",
        "This project Worflow is carried out in five parts:\n",
        "\n",
        "**1. Data Collection**\n",
        "\n",
        "**2. Data Preprocessing**\n",
        "\n",
        "**3. CNN Architecture Selection and Modelling**\n",
        "\n",
        "**4. Image Classification and Prediction**\n",
        "\n",
        "**5. Metrics Calculation**\n",
        "\n",
        "There are two architectures used for this Coursework:\n",
        "\n",
        "1. GoogLeNet Architecture\n",
        "2. Transfer Learning\n",
        "\n",
        "In this Colab Notebook, the second  architecture - Transfer Learning using MobileNet architecture is explained. The first architecture is explained: GoogLeNet Architecture without Transfer Learning and with Transfer Learning in another Colab Notebook -[Link](https://github.com/rajaramkuberan/ANN_Coursework_Coventry_Univ/blob/main/ANN_CourseWork_GoogLeNet_Rajaram_Kuberan.ipynb)\n",
        "\n",
        "Code Link for whole project - [Github link](https://github.com/rajaramkuberan/ANN_Coursework_Coventry_Univ.git)."
      ]
    },
    {
      "cell_type": "markdown",
      "metadata": {
        "id": "qrydelAQgOF9"
      },
      "source": [
        "##**1. Data Collection**\n",
        "\n",
        "  The dataset used for this project is not taken directly from Kaggle or UCI data repository. We have novelly scrapped the images from the UK top supermarket webistes, and also added images from two projects where grocery images were used for performing Classification."
      ]
    },
    {
      "cell_type": "markdown",
      "metadata": {
        "id": "qJvVAAqIgUjf"
      },
      "source": [
        "###**1.1 Image Scrapping**\n",
        "\n",
        "  Data is collected by scrapping images from websites like [Tesco](https://www.tesco.com/groceries/) and [Morrisons](https://groceries.morrisons.com/browse). Additionally the dataset from [Grocery Dataset](https://github.com/marcusklasson/GroceryStoreDataset/tree/master/dataset) and [Freiburg Grocery Dataset](http://aisdatasets.informatik.uni-freiburg.de/freiburg_groceries_dataset/) are also used. For Image Scrapping, Automation Tool - Selenium written in Java is used in this project. The Selenium with Python was also used. But Java Selenium combination helped us to scrap nearly 1500 images in a single exection of code. In this way, we could scrap nearly 12500+ images from Tesco website and 7500+ images from Morrisons website. The Grocery and Freiburg Dataset contains 5000 images respectively. So, totally we have 30000+ images to perform Classification."
      ]
    },
    {
      "cell_type": "markdown",
      "metadata": {
        "id": "1VQJNjWCgbL3"
      },
      "source": [
        "###**1.2 Selenium Java code Link**\n",
        "\n",
        "  Below are the Github link for selenium Java code:\n",
        "\n",
        "Tesco Selenium Java codes - [Link](https://github.com/rajaramkuberan/ANN_Coursework_Coventry_Univ/blob/main/Data_Image_Web_scrapping/tesco_selenium.java)\n",
        "\n",
        "Morrisons Selenium Java - [Link](https://github.com/rajaramkuberan/ANN_Coursework_Coventry_Univ/blob/main/Data_Image_Web_scrapping/Morrisons_Selenium.java)\n",
        "\n",
        "Dependencies required to execute do Automated Image Scrapping: \n",
        "1. Chromedriver - [Link](https://github.com/rajaramkuberan/ANN_Coursework_Coventry_Univ/tree/main/Data_Image_Web_scrapping/chromedriver_win32)\n",
        "\n",
        "2. Maven Repository and Selenium Ashot - [Link](https://github.com/rajaramkuberan/ANN_Coursework_Coventry_Univ/blob/main/Data_Image_Web_scrapping/selenium_ashot.txt)\n",
        "\n",
        "3. XML Pom file where the dependencies are listed to run the Java Selenium code: [Link](https://github.com/rajaramkuberan/ANN_Coursework_Coventry_Univ/blob/main/Data_Image_Web_scrapping/Automation/Images/pom.xml)"
      ]
    },
    {
      "cell_type": "markdown",
      "metadata": {
        "id": "bM9fZFNkgih0"
      },
      "source": [
        "###**1.3 Importing Data from the Github**\n",
        "\n",
        "Git clone is used to import the data from Github to Google Colab. The GPU runtime is used to run the CNN model due to its heavy computational dependencies."
      ]
    },
    {
      "cell_type": "code",
      "metadata": {
        "colab": {
          "base_uri": "https://localhost:8080/"
        },
        "id": "N5RUZ2-T_CBc",
        "outputId": "3a0f9fa5-7f48-4e3c-980d-976c264f5f90"
      },
      "source": [
        "!git clone https://github.com/rajaramkuberan/ANN_Coursework_Coventry_Univ.git"
      ],
      "execution_count": 1,
      "outputs": [
        {
          "output_type": "stream",
          "text": [
            "Cloning into 'ANN_Coursework_Coventry_Univ'...\n",
            "remote: Enumerating objects: 3, done.\u001b[K\n",
            "remote: Counting objects: 100% (3/3), done.\u001b[K\n",
            "remote: Compressing objects: 100% (3/3), done.\u001b[K\n",
            "remote: Total 30393 (delta 0), reused 0 (delta 0), pack-reused 30390\u001b[K\n",
            "Receiving objects: 100% (30393/30393), 6.12 GiB | 22.86 MiB/s, done.\n",
            "Resolving deltas: 100% (335/335), done.\n",
            "Checking out files: 100% (31425/31425), done.\n"
          ],
          "name": "stdout"
        }
      ]
    },
    {
      "cell_type": "markdown",
      "metadata": {
        "id": "rlIWOx_Vgn3n"
      },
      "source": [
        "##**2. Data Preprocessing**\n",
        "\n",
        "In this worflow, the dataset of 30000+ images are splitted randomly in the ratio of 80:20.\n",
        "\n",
        "The images are segregated, and stored in separate folders named train and test.\n",
        "\n",
        "Splitting the data code Link: [Python Code](https://github.com/rajaramkuberan/ANN_Coursework_Coventry_Univ/blob/main/splitting_the_data.ipynb)"
      ]
    },
    {
      "cell_type": "markdown",
      "metadata": {
        "id": "W8RfJ-dUuC0G"
      },
      "source": [
        "###**2.1 Importing the Necessary Libraries**\n",
        "\n",
        "The necessary libraries are imported for performing Data Preprocessing and CNN Transfer Learning Modelling."
      ]
    },
    {
      "cell_type": "code",
      "metadata": {
        "id": "m-PAACY8BeK9"
      },
      "source": [
        "import tensorflow as tf\n",
        "from tensorflow.keras.applications.resnet50 import ResNet50\n",
        "from tensorflow.keras.applications import MobileNetV3Large, VGG19, VGG16, MobileNetV2,InceptionV3\n",
        "from tensorflow.keras.models import Sequential\n",
        "from tensorflow.keras.layers import Flatten\n",
        "from tensorflow.keras.layers import Dense\n",
        "from keras.preprocessing.image import ImageDataGenerator\n",
        "import numpy as np\n",
        "import matplotlib.pyplot as plt\n",
        "\n",
        "from sklearn.model_selection import train_test_split\n",
        "from sklearn.preprocessing import label_binarize\n",
        "from sklearn.multiclass import OneVsRestClassifier\n",
        "from scipy import interp\n",
        "import sklearn.metrics as metrics\n",
        "from sklearn.metrics import roc_curve, auc\n",
        "from sklearn.metrics import roc_auc_score"
      ],
      "execution_count": 2,
      "outputs": []
    },
    {
      "cell_type": "markdown",
      "metadata": {
        "id": "i2Tb1b6HhXH3"
      },
      "source": [
        "###**2.2 Image Preprocessing**\n",
        "\n",
        "In this process, ImageDataGenerator class is used to create our train and test dataset for binary classification.Moreover, data is also normalised."
      ]
    },
    {
      "cell_type": "markdown",
      "metadata": {
        "id": "DMLsT8wvhdBD"
      },
      "source": [
        "####**2.2.1 Data/Image Normalisation**\n",
        "\n",
        "It's important to normalize our data because most of the CNN architecture accepts images in particular pixel values to improve its overall performance. The MobileNet Architecture accepts inputs with pixel 224x224.\n",
        "\n",
        "For this, the rescale parameter is used to scale our image pixel values from [0, 255] to [0,1].\n",
        "\n",
        "In each generator, we specify the source directory of our images, the classes, the input image size, the batch size (how many images to process at once), and class mode."
      ]
    },
    {
      "cell_type": "code",
      "metadata": {
        "id": "h7mPyyiKBXEm"
      },
      "source": [
        "# initialising the image size as 224x224\n",
        "IMAGE_SIZE = [224,224]\n",
        "\n",
        "\n",
        "# Setting the Path to test and train data \n",
        "test_path = '/content/ANN_Coursework_Coventry_Univ/test'\n",
        "train_path = '/content/ANN_Coursework_Coventry_Univ/train'"
      ],
      "execution_count": 3,
      "outputs": []
    },
    {
      "cell_type": "code",
      "metadata": {
        "id": "pNYEDpQMBZHg"
      },
      "source": [
        "# transforming train data images\n",
        "train_datagen = ImageDataGenerator(rescale = 1/255)\n",
        "\n",
        "# transforming train data images\n",
        "test_datagen = ImageDataGenerator(rescale = 1/255)\n"
      ],
      "execution_count": 4,
      "outputs": []
    },
    {
      "cell_type": "code",
      "metadata": {
        "colab": {
          "base_uri": "https://localhost:8080/"
        },
        "id": "1wFOpwsNBZEH",
        "outputId": "04250d8b-0281-46b0-f63b-034966a90117"
      },
      "source": [
        "#training data \n",
        "train_generator = train_datagen.flow_from_directory(\n",
        "        '/content/ANN_Coursework_Coventry_Univ/train',  # This is the source directory for training images\n",
        "        classes = ['Keto_train', 'Non_Keto_train'],\n",
        "        target_size=(224, 224),  # All images will be resized to 224x224\n",
        "        batch_size=32,\n",
        "        # Use binary labels\n",
        "        class_mode='binary')\n",
        "\n",
        "# testing data\n",
        "test_generator = test_datagen.flow_from_directory(\n",
        "        '/content/ANN_Coursework_Coventry_Univ/test',  # This is the source directory for training images\n",
        "        classes = ['Keto_test', 'Non_Keto_Test'],\n",
        "        target_size=(224, 224),  # All images will be resized to 224x224\n",
        "        batch_size=16,\n",
        "        # Use binary labels\n",
        "        class_mode='binary')"
      ],
      "execution_count": 5,
      "outputs": [
        {
          "output_type": "stream",
          "text": [
            "Found 24861 images belonging to 2 classes.\n",
            "Found 6163 images belonging to 2 classes.\n"
          ],
          "name": "stdout"
        }
      ]
    },
    {
      "cell_type": "markdown",
      "metadata": {
        "id": "06rVjiklzEYi"
      },
      "source": [
        "##**3. Building the Model**\n",
        "\n",
        "In this project, Transfer Learning with MobileNet Architecture is used to perform Image Classification on Ketogenic and Non-Ketogenic Food items. The Keras Library is used to build the MobileNet CNN architecture. The training/test datas are pushed into the Github repository.\n",
        "\n",
        "By incorporating all the four changes discussed in the GoogLeNet architecture, The transfer Learning using Mobilenet Architectures is trained.  To reiterate, the four changes implemented are:\n",
        "\n",
        "1. Using Imagenet Weights for training.\n",
        "2. Controlling the learning rate of the optimizers.\n",
        "3. Using L2 regularization\n",
        "4. Using Sigmoid function instead of Softmax to perform Classification in the output layer.\n",
        "\n"
      ]
    },
    {
      "cell_type": "markdown",
      "metadata": {
        "id": "v0vhllTgu3f_"
      },
      "source": [
        "####**3.1 Creating Transfer Learning Architecture using MobileNet Architecture**"
      ]
    },
    {
      "cell_type": "code",
      "metadata": {
        "colab": {
          "base_uri": "https://localhost:8080/"
        },
        "id": "fvmOkEtfA-Ct",
        "outputId": "e6422376-e321-4f5c-acd7-94e9548b3331"
      },
      "source": [
        "model = Sequential()\n",
        "\n",
        "#Transfer Learning with latest MobileNet Architecture is used(Change 1)\n",
        "\n",
        "model.add(MobileNetV2(include_top = False, weights=\"imagenet\", input_shape=(224, 224, 3)))\n",
        "model.add(tf.keras.layers.GlobalAveragePooling2D())\n",
        "\n",
        "# L2 regularizer(Change 3) and Sigmoid function is used(Change 4)\n",
        "\n",
        "model.add(Dense(1, activation = 'sigmoid',kernel_regularizer=tf.keras.regularizers.l2(0.01)))\n",
        "model.layers[0].trainable = False"
      ],
      "execution_count": 6,
      "outputs": [
        {
          "output_type": "stream",
          "text": [
            "Downloading data from https://storage.googleapis.com/tensorflow/keras-applications/mobilenet_v2/mobilenet_v2_weights_tf_dim_ordering_tf_kernels_1.0_224_no_top.h5\n",
            "9412608/9406464 [==============================] - 0s 0us/step\n"
          ],
          "name": "stdout"
        }
      ]
    },
    {
      "cell_type": "markdown",
      "metadata": {
        "id": "Z5CmXgOIvAsl"
      },
      "source": [
        "####**3.2 Model Compilation/Execution**"
      ]
    },
    {
      "cell_type": "code",
      "metadata": {
        "id": "c0mOkILA2Ent"
      },
      "source": [
        "from tensorflow.keras.optimizers import RMSprop, Adam\n",
        "\n",
        "from tensorflow.keras import optimizers\n",
        "\n",
        "#model.compile(optimizer=Adam, loss = 'binary_crossentropy', metrics = 'accuracy')\n",
        "model.compile(optimizer=RMSprop(lr=0.001), loss = 'binary_crossentropy', metrics = 'accuracy') # Change 2"
      ],
      "execution_count": 7,
      "outputs": []
    },
    {
      "cell_type": "markdown",
      "metadata": {
        "id": "ybmuKrr4zKL7"
      },
      "source": [
        "####**3.3 Fitting/Training the model**\n",
        "Let's train for 50 epochs. But the ideal training epoch is between 300-400. But HPC/GPU/TPU is required to perform the Transfer Learning modelling efficiently.\n",
        "\n",
        "Note that steps_per_epoch was set along with batch_size in ImageDataGenerator.\n",
        "\n",
        "Notice that as we train, our test accuracy never exceeds training accuracy, which is a good thing. Our model won't work better on unseen images than seen images."
      ]
    },
    {
      "cell_type": "code",
      "metadata": {
        "colab": {
          "base_uri": "https://localhost:8080/"
        },
        "id": "MYCOeC7oBNvy",
        "outputId": "47321f71-00f6-45cc-ce19-5b214f362b77"
      },
      "source": [
        "MobileNet_fit = model.fit(\n",
        "      train_generator,\n",
        "      steps_per_epoch=32,  \n",
        "      epochs=50,\n",
        "      verbose=1,\n",
        "      validation_data = test_generator,\n",
        "      validation_steps=16)"
      ],
      "execution_count": 9,
      "outputs": [
        {
          "output_type": "stream",
          "text": [
            "Epoch 1/50\n",
            "32/32 [==============================] - 20s 640ms/step - loss: 0.7201 - accuracy: 0.5889 - val_loss: 0.6729 - val_accuracy: 0.6523\n",
            "Epoch 2/50\n",
            "32/32 [==============================] - 18s 579ms/step - loss: 0.6684 - accuracy: 0.6270 - val_loss: 0.6417 - val_accuracy: 0.6328\n",
            "Epoch 3/50\n",
            "32/32 [==============================] - 18s 580ms/step - loss: 0.6569 - accuracy: 0.6484 - val_loss: 0.6424 - val_accuracy: 0.6406\n",
            "Epoch 4/50\n",
            "32/32 [==============================] - 19s 583ms/step - loss: 0.6568 - accuracy: 0.6475 - val_loss: 0.6012 - val_accuracy: 0.6953\n",
            "Epoch 5/50\n",
            "32/32 [==============================] - 19s 590ms/step - loss: 0.6416 - accuracy: 0.6582 - val_loss: 0.6776 - val_accuracy: 0.6016\n",
            "Epoch 6/50\n",
            "32/32 [==============================] - 19s 587ms/step - loss: 0.6275 - accuracy: 0.6641 - val_loss: 0.6579 - val_accuracy: 0.6172\n",
            "Epoch 7/50\n",
            "32/32 [==============================] - 19s 582ms/step - loss: 0.6144 - accuracy: 0.6787 - val_loss: 0.6694 - val_accuracy: 0.6445\n",
            "Epoch 8/50\n",
            "32/32 [==============================] - 18s 559ms/step - loss: 0.6147 - accuracy: 0.6709 - val_loss: 0.6416 - val_accuracy: 0.6406\n",
            "Epoch 9/50\n",
            "32/32 [==============================] - 18s 566ms/step - loss: 0.5810 - accuracy: 0.6953 - val_loss: 0.6002 - val_accuracy: 0.6953\n",
            "Epoch 10/50\n",
            "32/32 [==============================] - 17s 549ms/step - loss: 0.6019 - accuracy: 0.6904 - val_loss: 0.5614 - val_accuracy: 0.7227\n",
            "Epoch 11/50\n",
            "32/32 [==============================] - 17s 546ms/step - loss: 0.5936 - accuracy: 0.7061 - val_loss: 0.6176 - val_accuracy: 0.6641\n",
            "Epoch 12/50\n",
            "32/32 [==============================] - 17s 540ms/step - loss: 0.6104 - accuracy: 0.6758 - val_loss: 0.6343 - val_accuracy: 0.6250\n",
            "Epoch 13/50\n",
            "32/32 [==============================] - 17s 542ms/step - loss: 0.6018 - accuracy: 0.6885 - val_loss: 0.5953 - val_accuracy: 0.6758\n",
            "Epoch 14/50\n",
            "32/32 [==============================] - 17s 525ms/step - loss: 0.6150 - accuracy: 0.6797 - val_loss: 0.5971 - val_accuracy: 0.7148\n",
            "Epoch 15/50\n",
            "32/32 [==============================] - 17s 536ms/step - loss: 0.5879 - accuracy: 0.6924 - val_loss: 0.6083 - val_accuracy: 0.6641\n",
            "Epoch 16/50\n",
            "32/32 [==============================] - 17s 519ms/step - loss: 0.6109 - accuracy: 0.6787 - val_loss: 0.6137 - val_accuracy: 0.6797\n",
            "Epoch 17/50\n",
            "32/32 [==============================] - 17s 533ms/step - loss: 0.5965 - accuracy: 0.6826 - val_loss: 0.5775 - val_accuracy: 0.6914\n",
            "Epoch 18/50\n",
            "32/32 [==============================] - 17s 527ms/step - loss: 0.6117 - accuracy: 0.6768 - val_loss: 0.6060 - val_accuracy: 0.6562\n",
            "Epoch 19/50\n",
            "32/32 [==============================] - 16s 516ms/step - loss: 0.5781 - accuracy: 0.7031 - val_loss: 0.5368 - val_accuracy: 0.6953\n",
            "Epoch 20/50\n",
            "32/32 [==============================] - 17s 521ms/step - loss: 0.5822 - accuracy: 0.7119 - val_loss: 0.5715 - val_accuracy: 0.7148\n",
            "Epoch 21/50\n",
            "32/32 [==============================] - 17s 524ms/step - loss: 0.5707 - accuracy: 0.7266 - val_loss: 0.5766 - val_accuracy: 0.7070\n",
            "Epoch 22/50\n",
            "32/32 [==============================] - 16s 510ms/step - loss: 0.5478 - accuracy: 0.7500 - val_loss: 0.5686 - val_accuracy: 0.7148\n",
            "Epoch 23/50\n",
            "32/32 [==============================] - 16s 514ms/step - loss: 0.5829 - accuracy: 0.7002 - val_loss: 0.6090 - val_accuracy: 0.6719\n",
            "Epoch 24/50\n",
            "32/32 [==============================] - 16s 513ms/step - loss: 0.5553 - accuracy: 0.7334 - val_loss: 0.5406 - val_accuracy: 0.7500\n",
            "Epoch 25/50\n",
            "32/32 [==============================] - 16s 511ms/step - loss: 0.5765 - accuracy: 0.7051 - val_loss: 0.6615 - val_accuracy: 0.6680\n",
            "Epoch 26/50\n",
            "32/32 [==============================] - 16s 516ms/step - loss: 0.5757 - accuracy: 0.7158 - val_loss: 0.6269 - val_accuracy: 0.6953\n",
            "Epoch 27/50\n",
            "32/32 [==============================] - 16s 500ms/step - loss: 0.5972 - accuracy: 0.6875 - val_loss: 0.5577 - val_accuracy: 0.7070\n",
            "Epoch 28/50\n",
            "32/32 [==============================] - 16s 503ms/step - loss: 0.5743 - accuracy: 0.7129 - val_loss: 0.6280 - val_accuracy: 0.6445\n",
            "Epoch 29/50\n",
            "32/32 [==============================] - 16s 505ms/step - loss: 0.5643 - accuracy: 0.7158 - val_loss: 0.5566 - val_accuracy: 0.7148\n",
            "Epoch 30/50\n",
            "32/32 [==============================] - 16s 509ms/step - loss: 0.5606 - accuracy: 0.7148 - val_loss: 0.5605 - val_accuracy: 0.6836\n",
            "Epoch 31/50\n",
            "32/32 [==============================] - 16s 490ms/step - loss: 0.5602 - accuracy: 0.7246 - val_loss: 0.5740 - val_accuracy: 0.6836\n",
            "Epoch 32/50\n",
            "32/32 [==============================] - 16s 500ms/step - loss: 0.5987 - accuracy: 0.6875 - val_loss: 0.4909 - val_accuracy: 0.7734\n",
            "Epoch 33/50\n",
            "32/32 [==============================] - 17s 518ms/step - loss: 0.5754 - accuracy: 0.7169 - val_loss: 0.5705 - val_accuracy: 0.7109\n",
            "Epoch 34/50\n",
            "32/32 [==============================] - 16s 499ms/step - loss: 0.5601 - accuracy: 0.7227 - val_loss: 0.5729 - val_accuracy: 0.7109\n",
            "Epoch 35/50\n",
            "32/32 [==============================] - 16s 491ms/step - loss: 0.5632 - accuracy: 0.7285 - val_loss: 0.5608 - val_accuracy: 0.7109\n",
            "Epoch 36/50\n",
            "32/32 [==============================] - 16s 504ms/step - loss: 0.5619 - accuracy: 0.7070 - val_loss: 0.5830 - val_accuracy: 0.7070\n",
            "Epoch 37/50\n",
            "32/32 [==============================] - 16s 497ms/step - loss: 0.5684 - accuracy: 0.7090 - val_loss: 0.5631 - val_accuracy: 0.7305\n",
            "Epoch 38/50\n",
            "32/32 [==============================] - 16s 508ms/step - loss: 0.5659 - accuracy: 0.7217 - val_loss: 0.6219 - val_accuracy: 0.6719\n",
            "Epoch 39/50\n",
            "32/32 [==============================] - 16s 499ms/step - loss: 0.5883 - accuracy: 0.7090 - val_loss: 0.5720 - val_accuracy: 0.7227\n",
            "Epoch 40/50\n",
            "32/32 [==============================] - 16s 497ms/step - loss: 0.5458 - accuracy: 0.7344 - val_loss: 0.5766 - val_accuracy: 0.7109\n",
            "Epoch 41/50\n",
            "32/32 [==============================] - 16s 505ms/step - loss: 0.5628 - accuracy: 0.7236 - val_loss: 0.5804 - val_accuracy: 0.7109\n",
            "Epoch 42/50\n",
            "32/32 [==============================] - 16s 511ms/step - loss: 0.5819 - accuracy: 0.7197 - val_loss: 0.5909 - val_accuracy: 0.6875\n",
            "Epoch 43/50\n",
            "32/32 [==============================] - 16s 499ms/step - loss: 0.5563 - accuracy: 0.7305 - val_loss: 0.5801 - val_accuracy: 0.7070\n",
            "Epoch 44/50\n",
            "32/32 [==============================] - 16s 490ms/step - loss: 0.5871 - accuracy: 0.7002 - val_loss: 0.6353 - val_accuracy: 0.6719\n",
            "Epoch 45/50\n",
            "32/32 [==============================] - 16s 506ms/step - loss: 0.5575 - accuracy: 0.7354 - val_loss: 0.6397 - val_accuracy: 0.6484\n",
            "Epoch 46/50\n",
            "32/32 [==============================] - 16s 490ms/step - loss: 0.5921 - accuracy: 0.6953 - val_loss: 0.5807 - val_accuracy: 0.6875\n",
            "Epoch 47/50\n",
            "32/32 [==============================] - 16s 492ms/step - loss: 0.5869 - accuracy: 0.7139 - val_loss: 0.5807 - val_accuracy: 0.7422\n",
            "Epoch 48/50\n",
            "32/32 [==============================] - 16s 498ms/step - loss: 0.5629 - accuracy: 0.7207 - val_loss: 0.5567 - val_accuracy: 0.7188\n",
            "Epoch 49/50\n",
            "32/32 [==============================] - 16s 510ms/step - loss: 0.5545 - accuracy: 0.7373 - val_loss: 0.5774 - val_accuracy: 0.6914\n",
            "Epoch 50/50\n",
            "32/32 [==============================] - 16s 500ms/step - loss: 0.5531 - accuracy: 0.7451 - val_loss: 0.5879 - val_accuracy: 0.7031\n"
          ],
          "name": "stdout"
        }
      ]
    },
    {
      "cell_type": "markdown",
      "metadata": {
        "id": "Bh5Oer7LzTX9"
      },
      "source": [
        "##**4. Image Classification and Prediction**"
      ]
    },
    {
      "cell_type": "code",
      "metadata": {
        "colab": {
          "base_uri": "https://localhost:8080/"
        },
        "id": "7MkN4PKIBzSi",
        "outputId": "5fd9f1f6-a608-4d29-f435-c15cea8871a7"
      },
      "source": [
        "model.evaluate(test_generator)"
      ],
      "execution_count": 10,
      "outputs": [
        {
          "output_type": "stream",
          "text": [
            "386/386 [==============================] - 78s 202ms/step - loss: 0.5673 - accuracy: 0.7191\n"
          ],
          "name": "stdout"
        },
        {
          "output_type": "execute_result",
          "data": {
            "text/plain": [
              "[0.5673012733459473, 0.719130277633667]"
            ]
          },
          "metadata": {
            "tags": []
          },
          "execution_count": 10
        }
      ]
    },
    {
      "cell_type": "markdown",
      "metadata": {
        "id": "Wcnu_vM3voEV"
      },
      "source": [
        "###**Inference**\n",
        "\n",
        "The accuracy is 71.9% for the Transfer Learning with MobilNet architecture when compared to GoogLenet Architecture where the accuracy was around 65%. Even the transfer Learning with GoogLenet achieved an accuracy of 68.5%.\n",
        "\n",
        "The accuracy of Mobilenet architecture with transfer learning is increased to close 75%, if the epochs are increased to the range 300-400."
      ]
    },
    {
      "cell_type": "code",
      "metadata": {
        "id": "8H8dOoKQPHL5",
        "colab": {
          "base_uri": "https://localhost:8080/"
        },
        "outputId": "ddb8cbc3-774f-4653-82bc-b1c4da2a35c0"
      },
      "source": [
        "STEP_SIZE_TEST=test_generator.n//test_generator.batch_size\n",
        "test_generator.reset()\n",
        "preds = model.predict(test_generator,\n",
        "                      verbose=1)"
      ],
      "execution_count": 11,
      "outputs": [
        {
          "output_type": "stream",
          "text": [
            "386/386 [==============================] - 75s 193ms/step\n"
          ],
          "name": "stdout"
        }
      ]
    },
    {
      "cell_type": "markdown",
      "metadata": {
        "id": "eOX0K6ILv2cL"
      },
      "source": [
        "##**5. Metrics Calculation**\n",
        "\n",
        "Now, calculating the ROC curve and plot it.\n",
        "\n",
        "First, let's make predictions on our test set. When using generators to make predictions, we must first turn off shuffle (as we did when we created validation_generator) and reset the generator:"
      ]
    },
    {
      "cell_type": "code",
      "metadata": {
        "id": "T6izb9J3PHHK"
      },
      "source": [
        "fpr, tpr, _ = roc_curve(test_generator.classes, preds)"
      ],
      "execution_count": 12,
      "outputs": []
    },
    {
      "cell_type": "code",
      "metadata": {
        "id": "5aVMDhs1PHCi"
      },
      "source": [
        "roc_auc = auc(fpr, tpr)"
      ],
      "execution_count": 13,
      "outputs": []
    },
    {
      "cell_type": "code",
      "metadata": {
        "id": "nj82GjSZPG8u",
        "colab": {
          "base_uri": "https://localhost:8080/",
          "height": 295
        },
        "outputId": "cb1c12ac-7b64-47cb-d1d4-c34a1f8b3977"
      },
      "source": [
        "plt.figure()\n",
        "lw = 2\n",
        "plt.plot(fpr, tpr, color='darkorange',\n",
        "         lw=lw, label='ROC curve (area = %0.2f)' % roc_auc)\n",
        "plt.plot([0, 1], [0, 1], color='navy', lw=lw, linestyle='--')\n",
        "plt.xlim([0.0, 1.0])\n",
        "plt.ylim([0.0, 1.05])\n",
        "plt.xlabel('False Positive Rate')\n",
        "plt.ylabel('True Positive Rate')\n",
        "plt.title('Receiver Operating Characteristic with MobileNet Architecture for epoch 15')\n",
        "plt.legend(loc=\"lower right\")\n",
        "plt.show()"
      ],
      "execution_count": 15,
      "outputs": [
        {
          "output_type": "display_data",
          "data": {
            "image/png": "[encoded data removed]",
            "text/plain": [
              "<Figure size 432x288 with 1 Axes>"
            ]
          },
          "metadata": {
            "tags": [],
            "needs_background": "light"
          }
        }
      ]
    },
    {
      "cell_type": "markdown",
      "metadata": {
        "id": "m5lKG_Ex1YHS"
      },
      "source": [
        "###**Inference and Conclusion**\n",
        "\n",
        " As shown in the coursework report, the ROC curve for epochs 15 shows AUC as 0.5, which implies the model is not discriminating/classifying properly. But if the epoch is increased to 350, batch_size to 100, AUC increases to 0.7. Even after performing transfer learning with better architecture than GoogLeNet and also implmenting all the four changes from the previous arhitecture, the accuracy and the performance of the model is not upto the expectation.This may be due to 2 reasons. \n",
        "\n",
        "1. Clear Labelling of the train and test data is required.\n",
        "2. Using less amount of data."
      ]
    }
  ]
}